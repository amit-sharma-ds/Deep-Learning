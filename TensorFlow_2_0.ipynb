{
  "nbformat": 4,
  "nbformat_minor": 0,
  "metadata": {
    "colab": {
      "provenance": [],
      "toc_visible": true
    },
    "kernelspec": {
      "name": "python3",
      "display_name": "Python 3"
    },
    "language_info": {
      "name": "python"
    }
  },
  "cells": [
    {
      "cell_type": "markdown",
      "source": [
        "# TensorFlow 2.0 Tutorial"
      ],
      "metadata": {
        "id": "ZmS6NjH0eVtG"
      }
    },
    {
      "cell_type": "markdown",
      "source": [
        "![](https://blog.paperspace.com/content/images/size/w1050/2021/01/0_szgpfwmBY_CuZwP8-2.png)"
      ],
      "metadata": {
        "id": "v9hT9y81moeo"
      }
    },
    {
      "cell_type": "code",
      "source": [
        "# shortcuts for collab\n",
        "# ctrl + shift + Tab -> change chrome tabs.\n",
        "# to show documentation -> ctrl + space or ctrl + shift + space"
      ],
      "metadata": {
        "id": "Uc5WWJegf3LO"
      },
      "execution_count": null,
      "outputs": []
    },
    {
      "cell_type": "code",
      "source": [],
      "metadata": {
        "id": "R1W3Y5kAE99b"
      },
      "execution_count": null,
      "outputs": []
    },
    {
      "cell_type": "markdown",
      "source": [
        "# 1) TensorFlow 2.0 Tutorial Introduction part - 1"
      ],
      "metadata": {
        "id": "rHHNDe6ve1pz"
      }
    },
    {
      "cell_type": "markdown",
      "source": [
        "# .....................Agenda"
      ],
      "metadata": {
        "id": "MfKZo0Y9ev2K"
      }
    },
    {
      "cell_type": "code",
      "source": [
        "# • What is TensorFlow?\n",
        "# • Application # //so we understand that what we can build using tensorflow\n",
        "# • Who can learn? #// can software deveoloper, android developer or web developer\n",
        "# • Prerequisite\n",
        "# • Dependency\n",
        "# • Installation\n",
        "# • Importing # // and then practical codes\n",
        "# • Study materials # video me to hm sikhenge hi. isi ke sath hme official documents kha se milenge,\n",
        "#                     aur hme shi treke se acha guidance kha se milega iske bare me bhi hm age chl chlke bat krenge in study materials."
      ],
      "metadata": {
        "id": "abbaUYcOekXc"
      },
      "execution_count": null,
      "outputs": []
    },
    {
      "cell_type": "markdown",
      "source": [
        "# ....................What is TensorFlow?"
      ],
      "metadata": {
        "id": "ZMchfuj5e7nm"
      }
    },
    {
      "cell_type": "code",
      "source": [
        "# TensorFlow is the core open source library to help you develop and\n",
        "       # train Machine Learning/Deep Learning models.\n",
        "\n",
        "# Develop by Google Brain Team\n",
        "\n",
        "# TensorFlow is written in Python,C++,CUDA\n",
        "\n",
        "# Platform: Linux, macOS, Windows, Android, JavaScript\n",
        "\n",
        "# Initial release: November 9, 2015.\n",
        "\n",
        "# explanation:\n",
        "# 1st point ->  //Means ml and dl model ko train krte hai design krte hai and software ki pipeline ko complete krte hai.\n",
        "\n",
        "# 3rd point -> Tensort flow is made in Python, C++, CUDA.\n",
        "# CUDA becoz we use tensorflow GPU also.\n",
        "# to agr hme gpu ka use ache se krna hai, to hme CUDA language ka bhi istemal krna pdega.\n",
        "# but hm CUDA ko directly use nhi krenge. Hm jb tensorflow ka use krenge to tensorflow\n",
        "# CUDA ka istemal krega. so that we can utilize GPU power efficiently(means ache se).\n",
        "# to train and design ml model.\n",
        "\n",
        "# 4th Platform means where we can run tensorflow code. to wha javascript hai.\n",
        "# is means we can also run its code where js run\n",
        "\n",
        "\n",
        "\n",
        "# Note: TensorFLow is a python library and also a framework of ml and dl. (from chatgpt)"
      ],
      "metadata": {
        "id": "TPXAiO7ee-qw"
      },
      "execution_count": null,
      "outputs": []
    },
    {
      "cell_type": "markdown",
      "source": [
        "# ....................Application"
      ],
      "metadata": {
        "id": "uvBgGSLxfAOu"
      }
    },
    {
      "cell_type": "code",
      "source": [
        "# 1. Face recoginition application -> using computer vision\n",
        "# 2. Self Driving Car/Autonomous vehicle -> using AI\n",
        "# 3. Alexa -> using NLP [Natural Language Processing]\n",
        "     # In NLP we interact with machine in our language and machine all interact with us in our language.\n",
        "# 4. Robotics -> In robotics we can automate many works. so there we can also use TensorFlow.\n",
        "\n",
        "# And,  There are thousands of applications where tensorflow is used.\n",
        "# We can create/build application of different different domains using tensorflow library like aggriculture domain, healthcare,\n",
        "# finance and education etc."
      ],
      "metadata": {
        "id": "5KoT7NrPfCov"
      },
      "execution_count": null,
      "outputs": []
    },
    {
      "cell_type": "markdown",
      "source": [
        "# ....................Who can learn?"
      ],
      "metadata": {
        "id": "l_RB97vUfEGI"
      }
    },
    {
      "cell_type": "code",
      "source": [
        "# • Python Developer\n",
        "# • Machine Learning Engineer\n",
        "# • Data Scientist\n",
        "# • Artificial Intelligence Engineer\n",
        "# • Deep learning Engineer\n",
        "# • Computer Vision / Natural language procession Engineer\n",
        "\n",
        "# If we want to go in these fields then we should know tensorflow."
      ],
      "metadata": {
        "id": "2s3AIRSMfGDM"
      },
      "execution_count": null,
      "outputs": []
    },
    {
      "cell_type": "markdown",
      "source": [
        "# ....................Why TensorFlow?"
      ],
      "metadata": {
        "id": "omG4yMjbfHh5"
      }
    },
    {
      "cell_type": "code",
      "source": [
        "# Why learn TensorFlow?\n",
        "# and is there any other library available in the market instead of tensorflow.\n",
        "# if available then why we learn tensorflow?\n",
        "\n",
        "# see below google trends and tensorflow vs pytorch."
      ],
      "metadata": {
        "id": "z-E2eHnVfKE1"
      },
      "execution_count": null,
      "outputs": []
    },
    {
      "cell_type": "markdown",
      "source": [
        "# ....................//Google Trends"
      ],
      "metadata": {
        "id": "1-hAjV52fLfH"
      }
    },
    {
      "cell_type": "code",
      "source": [
        "# Google Trends pe jake hm tools ka comparision kr skte hai like TensorFlow and PyTorch.\n",
        "#<---------------------------------------------------------------------------------------->\n",
        "\n",
        "# > GUI of Google Trends\n",
        "#<----------------------------->\n",
        "     # search items           + compare\n",
        "\n",
        "     # Location    Past day    All categories  Web Search\n",
        "\n",
        "# > Now we have to compare TensorFlow and PyTorch, so we will customize GUI :\n",
        "     # TensorFlow          PyTorch        + Add comparision\n",
        "\n",
        "     # Worldwide       Past 5 years     All categories       Web Search"
      ],
      "metadata": {
        "id": "rDd94KR_fNUo"
      },
      "execution_count": null,
      "outputs": []
    },
    {
      "cell_type": "markdown",
      "source": [
        "# ....................//TensorFlow Vs PyTorch"
      ],
      "metadata": {
        "id": "dKAAKdJAfObL"
      }
    },
    {
      "cell_type": "code",
      "source": [
        "# 1) TensorFlow and PyTorch is both competitor to each other.\n",
        "#    Pytorch is created by facebook.\n",
        "\n",
        "# 2) we can use both libraries to design and train ml model.\n",
        "\n",
        "# 3) TensorFlow released 1st and then pytorch.\n",
        "\n",
        "# 4) kuch year pehle tensorflow ka market research bhut bda tha.\n",
        "#    and pytorch ko just reseach and developemnt ke liye use kiya jata tha.\n",
        "#    But in today's time facebook team is more focus on pytorch.\n",
        "#    and due to it. pytorch ka istemal krke jb bhi hm model ko design and train krte hai to hm model ko easily production me leke ja skte hai.\n",
        "#    for ex: dectron.\n",
        "#            dectron is a very powerful framework that we can used to solve computer vision problems.\n",
        "\n",
        "# 5)  Agr hm google trend pe abhi line graph dekhenge to dono ka ration bhut close hai.\n",
        "#     to hm ache se ni bta skte ki future me kiska use jada hoga.\n",
        "#     bcoz dono ke developer team bhut ache hai. google and facebook.\n",
        "\n",
        "# 6)  So we will use both jha tensorflow ki accuracy and speed jada hogi jis model me\n",
        "    # hm wha tensorflow ka use krenge. and jha pytorch best hoga hm wha iska use krenge."
      ],
      "metadata": {
        "id": "0iPY3yxWfQ3P"
      },
      "execution_count": null,
      "outputs": []
    },
    {
      "cell_type": "markdown",
      "source": [
        "# ....................//About Pytorch"
      ],
      "metadata": {
        "id": "MJK3CDUmfSsE"
      }
    },
    {
      "cell_type": "code",
      "source": [
        "# PyTorch is a deep learning framework developed by Facebook's AI Research lab (FAIR).\n",
        "# It was released in 2016 and open sourced on GitHub in 2017.\n"
      ],
      "metadata": {
        "id": "xTVLXpOmfUxY"
      },
      "execution_count": null,
      "outputs": []
    },
    {
      "cell_type": "markdown",
      "source": [
        "# ....................//From Documentation"
      ],
      "metadata": {
        "id": "x6V4sD83fWrb"
      }
    },
    {
      "cell_type": "code",
      "source": [
        "# TensorFlow official website -> TensorFlow.org -> here we can read documentations.\n",
        "\n",
        "# but is playlist me bhi hme use documentation se hindi me pdhenge.\n",
        "\n",
        "\n",
        "# Why TensorFlow\n",
        "#<------------------>\n",
        "\n",
        "# Easy model building\n",
        "# Robust Ml production anywhere -> we can deploy/run its code many os even android.\n",
        "# Powerful experimetation for research\n",
        "\n",
        "\n",
        "# Solutions to common ML problems\n",
        "#<----------------------------------->\n",
        "\n",
        "# simple step-by-step walkthroughts to solve common ML problems with TensorFlow.\n",
        "        # Beginner                    Intermediate                   Expert\n",
        "# 1) your first neural network    2) Recoomender systems     3) Generative adversarial networks\n",
        "\n",
        "\n",
        "\n",
        "# Powered by TensorFlow\n",
        "#<-------------------------->\n",
        "\n",
        "# TensorFlow team also created videos on tensorflow on youtube in english.\n",
        "# search tensorflow official.\n",
        "\n",
        "\n",
        "\n",
        "# Companies using TensorFlow\n",
        "#<------------------------------>\n",
        "\n",
        "\n",
        "# airbnb    cocacola     DeepMind      GE Healthcare     Google   intel    NeRSC     Twitter\n",
        "\n",
        "# News & announcements\n",
        "#<------------------------->\n",
        "# We can see all the latest information, blogs and news about tensorflow on tensorflow.org"
      ],
      "metadata": {
        "id": "JYF6KuEpfYtY"
      },
      "execution_count": null,
      "outputs": []
    },
    {
      "cell_type": "markdown",
      "source": [
        "# ....................Prerequisites"
      ],
      "metadata": {
        "id": "jNBun8RUfZvt"
      }
    },
    {
      "cell_type": "code",
      "source": [
        "# Prerequisites/Dependency for TensorFlow\n",
        "\n",
        "# Python        Pandas\n",
        "# Numpy         Matplotlib and seaborn\n",
        "# Scipy         Maths:Matrix,Vector\n",
        "\n",
        "\n",
        "# Note: Pyton and Numpy ata hai tb tb bhi hm tensorflow pdh skte hai.\n",
        "# scipy not mandatory if numpy known\n",
        "\n",
        "# Maths:Matrix,Vector : agr sirf understanding ke liye pdhna hai to  maths, vector in sbki need ni hai.\n",
        "# but deep me pdhna hai to ye sn aana chahiye.\n",
        "# and maths, statistics, probabiliy, matrix, vector, and calculus bhi ana chahiye.\n",
        "# if we enter in the AI field."
      ],
      "metadata": {
        "id": "7sUewL1LfblH"
      },
      "execution_count": null,
      "outputs": []
    },
    {
      "cell_type": "markdown",
      "source": [
        "# ....................Installation of TensorFlow"
      ],
      "metadata": {
        "id": "1eJeYkdWfcl8"
      }
    },
    {
      "cell_type": "code",
      "source": [
        "# 1st create environment -> To create virtual environment install anaconda.\n",
        "\n",
        "#                  pip install tensorflow     <- for cpu version\n",
        "#                  pip install tensorflow-gpu <- for gpu version [gpu nvidia + support cuda]\n",
        "\n",
        "# gpu wala code tb use krna hai jb hmara laptop nvidia ka gpu hoga, and wo CUDA ko support krta hai.\n",
        "# yha jo tensorflow install hoga wo gpu ko support krega.\n",
        "\n",
        "# Note: Google Collab pe pip ke jrurt ni hai. direct import ho jata hai."
      ],
      "metadata": {
        "id": "xfUpCnu0ffpG"
      },
      "execution_count": null,
      "outputs": []
    },
    {
      "cell_type": "markdown",
      "source": [
        "# ....................//GPU VS CPU"
      ],
      "metadata": {
        "id": "WnOz-Jr1fgq9"
      }
    },
    {
      "cell_type": "code",
      "source": [
        "# +-----------------------------------------+-----------------------------------------------+\n",
        "# | GPU (Graphics Processing Unit)          | CPU (Central Processing Unit)                 |\n",
        "# | - A specialized processor designed for   | - The main processor in a computer that       |\n",
        "# |   rendering graphics and performing      |   handles general-purpose tasks, executing    |\n",
        "# |   parallel computations, such as deep   |   instructions and managing system resources. |\n",
        "# |   learning operations.                   |                                               |\n",
        "# +-----------------------------------------+-----------------------------------------------+\n",
        "# | Less training time                      | High training time                            |\n",
        "# |                                         | Because in TensorFlow, there are complex      |\n",
        "# |                                         | mathematical calculations in the backend,     |\n",
        "# |                                         | and the CPU is not optimized for such         |\n",
        "# |                                         | operations.                                   |\n",
        "# +-----------------------------------------+-----------------------------------------------+\n",
        "# | Supports parallel computing             | Supports sequential computing                 |\n",
        "# +-----------------------------------------+-----------------------------------------------+\n",
        "# | Optimized for complex mathematical      | Can perform mathematical operations, but      |\n",
        "# | operations (TensorFlow can utilize      | is not optimized for highly parallel tasks,   |\n",
        "# | this for faster training)               | leading to slower training times              |\n",
        "# +-----------------------------------------+-----------------------------------------------+\n",
        "# | TensorFlow runs much faster on GPUs     | TensorFlow runs slower on CPUs                |\n",
        "# | due to parallel processing              | due to limited parallelism capabilities       |\n",
        "# +-----------------------------------------+-----------------------------------------------+\n",
        "# | Designed for parallel computations      | Designed for general-purpose sequential tasks |\n",
        "# | like rendering graphics and deep learning| such as logic operations and basic tasks      |\n",
        "# +-----------------------------------------+-----------------------------------------------+\n"
      ],
      "metadata": {
        "id": "wKtFfKVLfjXN"
      },
      "execution_count": null,
      "outputs": []
    },
    {
      "cell_type": "markdown",
      "source": [
        "# ....................Install tensorflow using conda"
      ],
      "metadata": {
        "id": "mRtu8jC-fkWH"
      }
    },
    {
      "cell_type": "code",
      "source": [
        "# All programs -> anacoda 64 -> Anaconda Promt (Anaconda 3)\n",
        "\n",
        "# After opening this will apper in anaconda cmd -> (base) C:\\Users\\.. this is base environment.\n",
        "\n",
        "# But hme base environment create nhi krna. If we want to create our own environment.\n",
        "# then we will use below commands.\n",
        "\n",
        "\n",
        "# For cpu version\n",
        "# <------------------->\n",
        "\n",
        "# 1. Conda create -n tf tensorflow <- create own base command\n",
        "# 2. conda activate tf  <- install anaconda\n",
        "\n",
        "# For GPU version\n",
        "# <-------------------->\n",
        "# Conda create -n tf-2-gpu tensorflow python=2\n",
        "# conda activate tf-2-gpu\n",
        "\n",
        "\n",
        "# we can also see these commands on anaconda documentation."
      ],
      "metadata": {
        "id": "YgJWKwScfmzj"
      },
      "execution_count": null,
      "outputs": []
    },
    {
      "cell_type": "markdown",
      "source": [
        "# ....................Import TensorFlow"
      ],
      "metadata": {
        "id": "xkA1hX4HfoGi"
      }
    },
    {
      "cell_type": "code",
      "source": [
        "import tensorflow as tf\n",
        "\n",
        "# tensorflow is package and tf is alias means short name/standard name"
      ],
      "metadata": {
        "id": "643uBEmJfqdZ"
      },
      "execution_count": null,
      "outputs": []
    },
    {
      "cell_type": "code",
      "source": [],
      "metadata": {
        "id": "fpBawFtCfrg9"
      },
      "execution_count": null,
      "outputs": []
    },
    {
      "cell_type": "markdown",
      "source": [
        "# 2) What is TensorFlow"
      ],
      "metadata": {
        "id": "qW4UOZyDi1yD"
      }
    },
    {
      "cell_type": "code",
      "source": [
        "# In today's video we will talk about, Tensor + Flow\n",
        "# what is Tensor? and\n",
        "# what is Flow? and then both\n",
        "# What is TensorFlow"
      ],
      "metadata": {
        "id": "osUVQOdWjGUm"
      },
      "execution_count": null,
      "outputs": []
    },
    {
      "cell_type": "markdown",
      "source": [
        "# ....................Agenda"
      ],
      "metadata": {
        "id": "l62SMEZSjUSR"
      }
    },
    {
      "cell_type": "code",
      "source": [
        "# • Mathematical Foundation\n",
        "# • What is Tensor?\n",
        "# • What is Flow?\n",
        "# • Study materials"
      ],
      "metadata": {
        "id": "1-AtJyJhjwOI"
      },
      "execution_count": null,
      "outputs": []
    },
    {
      "cell_type": "markdown",
      "source": [
        "# ....................Mathematical Foundation"
      ],
      "metadata": {
        "id": "NzSrsCivktao"
      }
    },
    {
      "cell_type": "code",
      "source": [
        "# Mathematical Foundation means not complete math pdhenge.\n",
        "# but ise mathematical foundataion ke upar hi tensorflow ko build kiya hai."
      ],
      "metadata": {
        "id": "PheyYKQrnf6k"
      },
      "execution_count": null,
      "outputs": []
    },
    {
      "cell_type": "code",
      "source": [
        "# • Scaler:\n",
        "    # • Scalars are mathematical entities which have only a magnitude (and no direction)\n",
        "    # • Ex: volume, density, speed, energy, mass, and time\n",
        "\n",
        "# Vector:\n",
        "    # • An array of numbers, which is either continuous or discrete, is defined as a vector.\n",
        "    # • Ex: Force and velocity, have both magnitude and direction and are called vectors.\n",
        "\n",
        "    # Directed line segment or ( magnitude+direction) is called vector. <- my 12th class defination.\n",
        "\n",
        "# • Matrix:\n",
        "#     • Matrix can be defined as multi-dimensional arrays, which are\n",
        "#     • arranged in the format of rows and columns\n"
      ],
      "metadata": {
        "id": "mnSAewRjkxYW"
      },
      "execution_count": null,
      "outputs": []
    },
    {
      "cell_type": "code",
      "source": [
        "#           +----------+         +-----+       +--      --+\n",
        "#  (11)     | 5 | 3 |7 |         |  5  |       | 4  19  8 |\n",
        "#           +----------+         +-----+       | 16  3  5 |\n",
        "#                                | 1.5 |       +--      --+\n",
        "#                                +-----+\n",
        "#                                |  2  |\n",
        "#                                +-----+\n",
        "\n",
        "\n",
        "# SCALAR      Row Vector         Column Vector      MATRIX\n",
        "#             (shape 1x1)       (shape 3x1)"
      ],
      "metadata": {
        "id": "g5PMiIBqlZXq"
      },
      "execution_count": null,
      "outputs": []
    },
    {
      "cell_type": "code",
      "source": [
        "# ....................What is TensorFlow?"
      ],
      "metadata": {
        "id": "00DQit1-lluD"
      },
      "execution_count": null,
      "outputs": []
    },
    {
      "cell_type": "code",
      "source": [
        "# TensorFlow = Tensor + Flow\n",
        "\n",
        "# //1st we will talk about Tensor then Flow then Tensor?"
      ],
      "metadata": {
        "id": "rGRGsdBdr6Kk"
      },
      "execution_count": null,
      "outputs": []
    },
    {
      "cell_type": "code",
      "source": [
        "# ....................What is Tensor?"
      ],
      "metadata": {
        "id": "rPZNNAme16ic"
      },
      "execution_count": null,
      "outputs": []
    },
    {
      "cell_type": "code",
      "source": [
        "# • Tensor:\n",
        "#     • A tensor is a mathematical object\n",
        "#     • Tensors are defined as multidimensional array or list.\n",
        "#     • Tensors are identified by the following three parameters.\n",
        "#       • Rank: It identifies the number of dimensions of the tensor\n",
        "#           • Ex: Scalar, Vector, Matrix\n",
        "#       • Shape: Number of rows and columns of Tensor\n",
        "#       • Type: Data type assigned to Tensor's elements\n",
        "#           • Ex: Integer, Float, String, boolean\n",
        "\n",
        "\n",
        "# ..more points about tensor\n",
        "#<------------------------>\n",
        "# • Scalar, Arrays or vectors, which are one-dimensional, or matrices,\n",
        "# which are two-dimensional. But tensors can be more than three,\n",
        "# four or five dimensional.\n",
        "\n",
        "# Tensor can be 0D, 1D,2D,3D,4D or multidimensions\n",
        "# Means A Tensor in TensorFlow is an N-dimensional array.\n",
        "# Tensors in TensorFlow are uniform, meaning that all the elements in a tensor must have the same data type and the same shape at each level."
      ],
      "metadata": {
        "id": "7fOS2D5NsEKG"
      },
      "execution_count": null,
      "outputs": []
    },
    {
      "cell_type": "markdown",
      "source": [
        "![](https://miro.medium.com/v2/resize:fit:500/1*tD_RMFOOM17d7QENPhLy3w.png)"
      ],
      "metadata": {
        "id": "xMIE_WjstvxX"
      }
    },
    {
      "cell_type": "code",
      "source": [
        "# Above image at 06:10 in the video (dimensions of tensor flow)"
      ],
      "metadata": {
        "id": "6Rn7uY122B1M"
      },
      "execution_count": null,
      "outputs": []
    },
    {
      "cell_type": "code",
      "source": [
        "# Now, the question is arise that why we learn about tensors in deep learning?\n",
        "\n",
        "# ans: when we work in dl then we have images and that images has different different shapes,\n",
        "# and the data is in different format, and there also text data.\n",
        "# So the shape of data is in different different format.\n",
        "# and hm us data ke shape ke according model ko train krenge.\n",
        "# so we learn tensor in dl and hmare pass jo data rhega wo used data rhega.\n",
        "# and usko hme represent krna hai, usko shi treke utilize krna hai."
      ],
      "metadata": {
        "id": "lX_ArOx33ZNL"
      },
      "execution_count": null,
      "outputs": []
    },
    {
      "cell_type": "markdown",
      "source": [
        "# ....................What is Flow of TensorFlow?"
      ],
      "metadata": {
        "id": "INATc8ox5625"
      }
    },
    {
      "cell_type": "code",
      "source": [
        "# • Flow:\n",
        "#     • Graphical representation of mathematical Operation\n",
        "#     • Everything in TensorFLow is based on designing a computational graph.\n",
        "\n",
        "#     • The graph has a network of nodes, with each node operating addition,\n",
        "#     multiplication, or evaluating some multivariate equation.\n",
        "\n",
        "#     • The code is written to build the graph, create a session, and execute that graph\n",
        "\n",
        "    #  +----------+\n",
        "    #  | Matrix A | \\\n",
        "    #  +----------+  _\\/ +-----------+         +----------+\n",
        "    #                __  | Add A & B |-------> |    C     |\n",
        "    #  +----------+   /\\ +-----------+         +----------+\n",
        "    #  | Matrix B |  /\n",
        "    #  +----------+\n",
        "\n",
        "   # //input metrices/inputs  operations            output\n",
        "  # //blue color box       yellow                  blue\n",
        "\n",
        "\n",
        "\n",
        "\n",
        "# Expalantion:\n",
        "#<------------->\n",
        "# 1)\n",
        "# Flow means graphical representation of mathematical operation.\n",
        "# basically hm deep learning me kya krte hai. hm deep learning me\n",
        "# mathematical operation perform krte hai.\n",
        "# Deep learning me operation perform krne ke liye hm python code ka istemal\n",
        "# krte to python code me hm kya krte?\n",
        "# python code me hm TensorFlow framework ka istemal krte.\n",
        "# To tensorflow me flow word means graphical representation of mathematical operation.\n",
        "\n",
        "# So everything is tensorflow means jo bhi cheez hmare pass tensorflow me rhege,\n",
        "# is a base on design a computational graph.\n",
        "\n",
        "# To tensorflow me hm jb bhi coding krte hai.\n",
        "# To hmare pass sbse pehle ek mathematical operation/formula rehta hai.\n",
        "# hm us formula computational graph me represent krte hai.\n",
        "# and uske badh me coding krte hai.\n",
        "\n",
        "# so Flow means graphical representation of mathematical operation.\n",
        "# and us graph ko dekhke hm coding krenge.\n",
        "# and usko hm coding krenge TensorFlow me.\n",
        "\n",
        "\n",
        "\n",
        "# 2nd point) nodes -> graph me nodes honge like matrix A & matrix B -> inme kuch mathematical operations honge -> and then hme output milega.\n",
        "\n",
        "# 3rd point)\n",
        "      # 1. Build the Graph:\n",
        "      # First, you define the computation. This is like writing the blueprint or structure of what operations need to happen. You use TensorFlow operations (tf.Operation) to construct the graph, where nodes represent operations, and edges represent tensors flowing between them.\n",
        "      # Example: You define variables, placeholders, and the operations that make up your neural network or mathematical computation. But at this stage, no computation happens yet.\n",
        "      # 2. Create a Session:\n",
        "      # Once the graph is built, you create a session using tf.Session() which acts as the environment to actually execute the operations you’ve defined in the graph.\n",
        "      # The session holds and manages the state, resources, and computations required to run the graph.\n",
        "      # 3. Execute the Graph:\n",
        "      # After creating the session, you can now run the computations by using session.run(). Here, the graph is executed, meaning the operations you defined are computed, and the results are returned.\n",
        "\n",
        "      # In short:\n",
        "      # Code first defines the graph (blueprint of the operations).\n",
        "      # Then, the session is created to execute the defined graph.\n",
        "      # Finally, the graph is executed to get the results.\n",
        "\n",
        "# Note: hm graph create krenge uske hisab se hm choose krenge ki kis dimension ka data lena hai.\n",
        "\n",
        "\n",
        "# Note: hm jo mathematical operation perform krenge that code is already written in tensorflow so\n",
        "# we just only call the api"
      ],
      "metadata": {
        "id": "dcVBTwf959ZG"
      },
      "execution_count": null,
      "outputs": []
    },
    {
      "cell_type": "code",
      "source": [],
      "metadata": {
        "id": "Dqg6ybGyCexj"
      },
      "execution_count": null,
      "outputs": []
    },
    {
      "cell_type": "markdown",
      "source": [
        "# ....................What is TensorFlow?"
      ],
      "metadata": {
        "id": "u-ebgmFP98Jw"
      }
    },
    {
      "cell_type": "code",
      "source": [
        "# • TensorFlow is the core open source library to help you develop and\n",
        "# train Machine Learning/Deep Learning models.\n",
        "\n",
        "# • Develop by Google Brain Team\n",
        "\n",
        "# • TensorFlow is written in Python,C++,CUDA\n",
        "\n",
        "# • Platform: Linux, macOS, Windows, Android, JavaScript\n",
        "\n",
        "# • Initial release: November 9, 2015."
      ],
      "metadata": {
        "id": "ApTIshvA-rYq"
      },
      "execution_count": null,
      "outputs": []
    },
    {
      "cell_type": "markdown",
      "source": [
        "# ....................//what is Framework?\n",
        "# ....................//Why TensorFlow is called Framework?"
      ],
      "metadata": {
        "id": "JHF4OMV-HJIM"
      }
    },
    {
      "cell_type": "code",
      "source": [
        "# Framework: A framework provides a structure and pre-built tools for developing software efficiently.\n",
        "\n",
        "# TensorFlow is a framework: because it offers pre-built tools and a structured approach for deep learning tasks.\n",
        "\n",
        "# Pre-built Tools: TensorFlow provides ready-made functions for building and training machine learning models.\n",
        "# Structure: It offers a defined way to organize and execute deep learning tasks (graph construction, session, etc.).\n"
      ],
      "metadata": {
        "id": "7c-3GXegHPBc"
      },
      "execution_count": null,
      "outputs": []
    },
    {
      "cell_type": "markdown",
      "source": [
        "# 3) TensorFlow Programming Elements to build Tensors"
      ],
      "metadata": {
        "id": "rILCrjKsHw6Y"
      }
    },
    {
      "cell_type": "markdown",
      "source": [
        "# ....................Agenda"
      ],
      "metadata": {
        "id": "tUYfX6MzIeDS"
      }
    },
    {
      "cell_type": "code",
      "source": [
        "# • Constant\n",
        "# • Variable\n",
        "# • Placeholder\n",
        "# • Sparce Tensor"
      ],
      "metadata": {
        "id": "b8-ylOM3IhTL"
      },
      "execution_count": null,
      "outputs": []
    },
    {
      "cell_type": "markdown",
      "source": [
        "# ....................Programming Elements"
      ],
      "metadata": {
        "id": "IDgfk5-8-NAT"
      }
    },
    {
      "cell_type": "code",
      "source": [],
      "metadata": {
        "id": "cUQAkWTW-WIv"
      },
      "execution_count": null,
      "outputs": []
    },
    {
      "cell_type": "code",
      "source": [
        "# //If we want to use tensorflow then we will have to create tensors.\n",
        "# //So, there are following programming elements that we can use to create tensors:\n",
        "# • Constant\n",
        "# • Variable\n",
        "# • Placeholder\n",
        "# • Sparce Tensor"
      ],
      "metadata": {
        "id": "H1s83iFi-ixK"
      },
      "execution_count": null,
      "outputs": []
    },
    {
      "cell_type": "markdown",
      "source": [
        "# ....................Constant"
      ],
      "metadata": {
        "id": "CO1GNi3t-r71"
      }
    },
    {
      "cell_type": "code",
      "source": [
        "# • Creates a constant tensor form a tensor-like object.\n",
        "\n",
        "# Syntax: tf.constant()\n",
        "\n",
        "# //imp Note: In constant -> we can not make changes after creating tensor."
      ],
      "metadata": {
        "id": "zmlHlxl7-wWH"
      },
      "execution_count": null,
      "outputs": []
    },
    {
      "cell_type": "markdown",
      "source": [
        "# ....................Variable"
      ],
      "metadata": {
        "id": "bEX4j8yk-zUt"
      }
    },
    {
      "cell_type": "code",
      "source": [
        "# • Variables allow us to add new trainable parameters to the graph\n",
        "\n",
        "# Syntax: tf.variable()\n",
        "\n",
        "# //Note: In Variable -> we can make changes after creating tensor.\n",
        "# //tf.variable(value,datatype)"
      ],
      "metadata": {
        "id": "aZC8zaYw-98Q"
      },
      "execution_count": null,
      "outputs": []
    },
    {
      "cell_type": "markdown",
      "source": [
        "# ....................Placeholder"
      ],
      "metadata": {
        "id": "pLJB49zHA9fW"
      }
    },
    {
      "cell_type": "code",
      "source": [
        "# • Placeholder allow us to feed data to a TensorFLow model from outside a model\n",
        "\n",
        "# Syntax: tf.placeholder()\n",
        "\n",
        "# //Placeholder means if we are creating tensor,\n",
        "# we can create tensor without inserting value in the tensor.\n",
        "# Only mention the datatype of that tensor.\n",
        "# this tensor is called placeholder.//"
      ],
      "metadata": {
        "id": "ZvMMqydkBHZf"
      },
      "execution_count": null,
      "outputs": []
    },
    {
      "cell_type": "markdown",
      "source": [
        "# ....................Sparse Tensor"
      ],
      "metadata": {
        "id": "xwx5k4POBqdg"
      }
    },
    {
      "cell_type": "code",
      "source": [
        "# • Sparse Tensor enable efficient storage and processing of tensors that\n",
        "# contain a lot of zero values.\n",
        "\n",
        "# Syntax: tf.SparsseTensor()\n",
        "\n",
        "\n",
        "# if we want to create a tensor in which maximul value is zero.\n",
        "# so that we can fulfil our operation then we will create sparsh tensor."
      ],
      "metadata": {
        "id": "R6lr6IuLGU6k"
      },
      "execution_count": null,
      "outputs": []
    },
    {
      "cell_type": "code",
      "source": [
        "# //This is theory discussion of the elements.\n",
        "# //In the coming video. -> practical implementation."
      ],
      "metadata": {
        "id": "VtVkqCoMc3ND"
      },
      "execution_count": null,
      "outputs": []
    },
    {
      "cell_type": "code",
      "source": [],
      "metadata": {
        "id": "GNJg5aWMc-ni"
      },
      "execution_count": null,
      "outputs": []
    },
    {
      "cell_type": "markdown",
      "source": [
        "# 4) Create Constant Tensor using TensorFlow 2.0 Python Tutorial"
      ],
      "metadata": {
        "id": "OqepsfpBdD5F"
      }
    },
    {
      "cell_type": "code",
      "source": [
        "# we use tensorflow to train dl neural network.\n",
        "\n",
        "# To us time hmare pass kuch constant data rehta hai, jisko hm change ni krte hai while training.\n",
        "# like user input.\n",
        "\n",
        "# In this video we will talk about how to create\n",
        "# 0d,1d,2d,3d,ND contant tensor"
      ],
      "metadata": {
        "id": "qHFgzqq3dLdZ"
      },
      "execution_count": null,
      "outputs": []
    },
    {
      "cell_type": "code",
      "source": [
        "# practice code\n",
        "# from array import*\n",
        "# a = array('i',[1,2,3,4,\"a\"])\n",
        "# print(a)\n",
        "# type(a)\n",
        "\n",
        "# TypeError: 'str' object cannot be interpreted as an integer\n",
        "# it means array must be of same data type.\n",
        "# we know that array are hetegeneous"
      ],
      "metadata": {
        "id": "DSt1Zx23d-M5"
      },
      "execution_count": null,
      "outputs": []
    },
    {
      "cell_type": "markdown",
      "source": [
        "# ....................Constant"
      ],
      "metadata": {
        "id": "B3yxdYYxjZag"
      }
    },
    {
      "cell_type": "code",
      "source": [
        "\n",
        "# • Creates a constant tensor form a tensor-like object.\n",
        "\n",
        "# Syntax: tf.constant()\n",
        "\n",
        "# //imp Note: In constant -> we can not make changes after creating tensor."
      ],
      "metadata": {
        "id": "QDScTplUfkyZ"
      },
      "execution_count": null,
      "outputs": []
    },
    {
      "cell_type": "code",
      "source": [
        "# ipynb -> interactive python notebook"
      ],
      "metadata": {
        "id": "38UMzbfuiIWW"
      },
      "execution_count": null,
      "outputs": []
    },
    {
      "cell_type": "markdown",
      "source": [
        "# ....................How to Create Constant variable in TensorFlow 2.x"
      ],
      "metadata": {
        "id": "YGv1Lqnbko39"
      }
    },
    {
      "cell_type": "code",
      "source": [
        "# //version disscussion\n",
        "#<----------------------->\n",
        "# Upar heading me 2.x means 2 ke kitne bhi version aye like 2.1,2.10\n",
        "# sbme suitable hai code hai, means code same hi rhega. to hm yha pe sikhenge.\n",
        "\n",
        "# pehle tensorflow ka ek version that tensorflow 1.\n",
        "# and iske popular version tha tensorflow1.14 and tensorflow 1.15\n",
        "# ye versions aaj bhi use ho rha hai.\n",
        "\n",
        "# //Important\n",
        "#<-------------->\n",
        "# But there are several differences between tensorflow 1 and tensorflow 2.\n",
        "# tensorflow 2 is best in today's time.\n",
        "# It has less lines of code.\n",
        "# we can easily use keras in tensorflow 2."
      ],
      "metadata": {
        "id": "AkO0ERUBlQMQ"
      },
      "execution_count": null,
      "outputs": []
    },
    {
      "cell_type": "code",
      "source": [
        "# tf.constant():\n",
        "\n",
        "# Creates a constant tensor from a tensor-like object.\n",
        "\n",
        "# # //There are 4 arguments of tensorflow.constant()//\n",
        "\n",
        "# Args\n",
        "# value   A constant value (or list) of output type dtype. //(int,float,str,bool)//\n",
        "# shape   optional dimensions of resulting tensor.\n",
        "# name    optional name for the tensor.\n",
        "\n",
        "# Returns\n",
        "# A Constant Tensor.\n",
        "\n",
        "# REF: https://www.tensorflow.org/api_docs/python/tf/constant\n",
        "# //REF means refer this is the official webite where we can\n",
        "# know how tensorflow constant funtion works.//\n",
        "\n",
        "# //Note: No need to define datatype. kuki code automaticaly jo bhi hm value di hogi like int\n",
        "# to bhi tensor us particular element ka datatype define kr lega."
      ],
      "metadata": {
        "id": "mnV5jpyBmk4q"
      },
      "execution_count": null,
      "outputs": []
    },
    {
      "cell_type": "markdown",
      "source": [
        "# Notes"
      ],
      "metadata": {
        "id": "stbcv4pZoRWx"
      }
    },
    {
      "cell_type": "code",
      "source": [
        "# 1. tf.Session() not in 2.x\n",
        "# 2. Most of TensorFLow syntax same like Numpy\n",
        "\n",
        "# 3. Use: While building neutral network graph need constant variable like input data,\n",
        "#    it never change while training\n",
        "\n",
        "\n",
        "\n",
        "\n",
        "\n",
        "# expalanation\n",
        "# 1st point-> agr tensorflow 1 me graph create krne ke badh\n",
        "# agr koi bhi variable hme dekhna hai. to sbse pehle hme usko execute krna pdta hai.\n",
        "# Execute nhi krenge to hm usko access nhi kr payenge.\n",
        "# but tensorflow 2 me hme ko session create nhi krna.\n",
        "\n",
        "# 2.//bs hm numpy me np ka use krte the and tensorflow me tf ka use krenge.\n",
        "\n",
        "# 3. use of contant variable -> hmare pass mathematical formula rehta hai.\n",
        "# usko hm convert krte hai graph me -> and us graph ko hme actually program me convert krna\n",
        "# pdta hai tb hm use krte hai tensorflow library ka.\n",
        "\n",
        "# to tensorflow library me jb hm user ko input dete hai.\n",
        "# then input value kuch na kuch rhege for example image data, text data or a number.\n",
        "# to hm koi na koi data neural network ko pass krenge.\n",
        "# agr hm neural network ko koi data pass krenge to wo constant rhega.\n",
        "# wo training ke time pe input same rhega, change nhi hoga. but only output change hoga.\n",
        "\n",
        "# In simple training ke time pe agr hm chahte hai ki hmara input fix rhe change na ho.\n",
        "# bs output change ho. then we can use constant data."
      ],
      "metadata": {
        "id": "ZecoCuuRpXLI"
      },
      "execution_count": null,
      "outputs": []
    },
    {
      "cell_type": "code",
      "source": [
        "# Import TensorFlow"
      ],
      "metadata": {
        "id": "cca-ef7RDT3m"
      },
      "execution_count": null,
      "outputs": []
    },
    {
      "cell_type": "code",
      "source": [
        "import tensorflow as tf\n",
        "\n",
        "# alias means short name\n",
        "# tf is standard name/ globally used name/ short name.\n",
        "\n",
        "# import is used to use package in python."
      ],
      "metadata": {
        "id": "30Y65a3DDWiP"
      },
      "execution_count": null,
      "outputs": []
    },
    {
      "cell_type": "code",
      "source": [
        "# TensorFlow Version"
      ],
      "metadata": {
        "id": "161cDPEVDbI4"
      },
      "execution_count": null,
      "outputs": []
    },
    {
      "cell_type": "code",
      "source": [
        "tf.__version__\n",
        "# Note: version should be 2 and can anything in point."
      ],
      "metadata": {
        "colab": {
          "base_uri": "https://localhost:8080/",
          "height": 36
        },
        "id": "K9YrIPnHDct3",
        "outputId": "8272979d-3339-40e6-8c0e-553e4f83d504"
      },
      "execution_count": null,
      "outputs": [
        {
          "output_type": "execute_result",
          "data": {
            "text/plain": [
              "'2.17.0'"
            ],
            "application/vnd.google.colaboratory.intrinsic+json": {
              "type": "string"
            }
          },
          "metadata": {},
          "execution_count": 47
        }
      ]
    },
    {
      "cell_type": "code",
      "source": [
        "# Check GPU availability"
      ],
      "metadata": {
        "id": "fHke7hG9FFm3"
      },
      "execution_count": null,
      "outputs": []
    },
    {
      "cell_type": "code",
      "source": [
        "tf.test.is_gpu_available()\n",
        "\n",
        "# GPU must be of nvidia for the True.\n",
        "# mere laptop me amd ka gpu hai.but yha True nhi ayega. bcoz this is not nvidia."
      ],
      "metadata": {
        "colab": {
          "base_uri": "https://localhost:8080/"
        },
        "id": "qGG1h6hpF_M6",
        "outputId": "0b19f67e-1130-4c79-855f-415e1dc0c6ab"
      },
      "execution_count": null,
      "outputs": [
        {
          "output_type": "stream",
          "name": "stderr",
          "text": [
            "WARNING:tensorflow:From <ipython-input-49-21182b4d5282>:1: is_gpu_available (from tensorflow.python.framework.test_util) is deprecated and will be removed in a future version.\n",
            "Instructions for updating:\n",
            "Use `tf.config.list_physical_devices('GPU')` instead.\n"
          ]
        },
        {
          "output_type": "execute_result",
          "data": {
            "text/plain": [
              "False"
            ]
          },
          "metadata": {},
          "execution_count": 49
        }
      ]
    },
    {
      "cell_type": "code",
      "source": [
        "# Create Integer Constant"
      ],
      "metadata": {
        "id": "tMqUwVMLGEjy"
      },
      "execution_count": null,
      "outputs": []
    },
    {
      "cell_type": "code",
      "source": [
        "# tf.constant()\n",
        "# to shorcut for ctrl + shift + tab"
      ],
      "metadata": {
        "id": "vufPPq0aGkoI"
      },
      "execution_count": null,
      "outputs": []
    },
    {
      "cell_type": "code",
      "source": [
        "a = tf.constant(10)\n",
        "a\n",
        "# dtype is by defaul in the output"
      ],
      "metadata": {
        "colab": {
          "base_uri": "https://localhost:8080/"
        },
        "id": "0nB4NRlwHqAf",
        "outputId": "daa09b74-4fb8-4c06-d02a-f8220f9f4071"
      },
      "execution_count": null,
      "outputs": [
        {
          "output_type": "execute_result",
          "data": {
            "text/plain": [
              "<tf.Tensor: shape=(), dtype=int32, numpy=10>"
            ]
          },
          "metadata": {},
          "execution_count": 52
        }
      ]
    },
    {
      "cell_type": "code",
      "source": [
        "# Create Float Constant"
      ],
      "metadata": {
        "id": "ez1rfMTsH7fY"
      },
      "execution_count": null,
      "outputs": []
    },
    {
      "cell_type": "code",
      "source": [
        "b = tf.constant(10.2)\n",
        "b"
      ],
      "metadata": {
        "colab": {
          "base_uri": "https://localhost:8080/"
        },
        "id": "p3YMkOdPIaXD",
        "outputId": "4569571c-5d99-4722-c17e-e7342e11e82b"
      },
      "execution_count": null,
      "outputs": [
        {
          "output_type": "execute_result",
          "data": {
            "text/plain": [
              "<tf.Tensor: shape=(), dtype=float32, numpy=10.2>"
            ]
          },
          "metadata": {},
          "execution_count": 54
        }
      ]
    },
    {
      "cell_type": "code",
      "source": [
        "# Create String Constant"
      ],
      "metadata": {
        "id": "ZRMCZbrmIdKu"
      },
      "execution_count": null,
      "outputs": []
    },
    {
      "cell_type": "code",
      "source": [
        "c = tf.constant(\"Indian Ai Production\")\n",
        "c"
      ],
      "metadata": {
        "colab": {
          "base_uri": "https://localhost:8080/"
        },
        "id": "FtwoGGGnIhgT",
        "outputId": "120bd107-a923-4e4f-c626-ae81354c5ee2"
      },
      "execution_count": null,
      "outputs": [
        {
          "output_type": "execute_result",
          "data": {
            "text/plain": [
              "<tf.Tensor: shape=(), dtype=string, numpy=b'Indian Ai Production'>"
            ]
          },
          "metadata": {},
          "execution_count": 56
        }
      ]
    },
    {
      "cell_type": "code",
      "source": [
        "# Create Bool Constant"
      ],
      "metadata": {
        "id": "xIIIxCWxIlof"
      },
      "execution_count": null,
      "outputs": []
    },
    {
      "cell_type": "code",
      "source": [
        "d = tf.constant(True)\n",
        "d"
      ],
      "metadata": {
        "colab": {
          "base_uri": "https://localhost:8080/"
        },
        "id": "vrzmJs7YIpIm",
        "outputId": "5076470f-dede-4f05-80e6-9d036514e9d9"
      },
      "execution_count": null,
      "outputs": [
        {
          "output_type": "execute_result",
          "data": {
            "text/plain": [
              "<tf.Tensor: shape=(), dtype=bool, numpy=True>"
            ]
          },
          "metadata": {},
          "execution_count": 58
        }
      ]
    },
    {
      "cell_type": "code",
      "source": [
        "# Create Constant Numpy array / list / Tuple\n",
        "# // Create Constant tensor using numpy array"
      ],
      "metadata": {
        "id": "PaKQCA4FIrml"
      },
      "execution_count": null,
      "outputs": []
    },
    {
      "cell_type": "code",
      "source": [
        "import numpy as np"
      ],
      "metadata": {
        "id": "x0UlS5EdMkoV"
      },
      "execution_count": null,
      "outputs": []
    },
    {
      "cell_type": "code",
      "source": [
        "np_array = tf.constant(np.array([1,2,3,4]))\n",
        "np_array\n",
        "# shape=(4,) it means 1d array"
      ],
      "metadata": {
        "colab": {
          "base_uri": "https://localhost:8080/"
        },
        "id": "PIwGXBbcMZ7Q",
        "outputId": "db3432ae-db96-4f1b-d0b5-12a4391c4892"
      },
      "execution_count": null,
      "outputs": [
        {
          "output_type": "execute_result",
          "data": {
            "text/plain": [
              "<tf.Tensor: shape=(4,), dtype=int64, numpy=array([1, 2, 3, 4])>"
            ]
          },
          "metadata": {},
          "execution_count": 61
        }
      ]
    },
    {
      "cell_type": "code",
      "source": [
        "# Create 1D constant"
      ],
      "metadata": {
        "id": "_CNid8Y0Mefs"
      },
      "execution_count": null,
      "outputs": []
    },
    {
      "cell_type": "code",
      "source": [
        "t_1d = tf.constant([1,2,3,4])\n",
        "t_1d"
      ],
      "metadata": {
        "colab": {
          "base_uri": "https://localhost:8080/"
        },
        "id": "mVyY8qy_NCMO",
        "outputId": "c5313935-33f0-4a61-f042-5346a9c548af"
      },
      "execution_count": null,
      "outputs": [
        {
          "output_type": "execute_result",
          "data": {
            "text/plain": [
              "<tf.Tensor: shape=(4,), dtype=int32, numpy=array([1, 2, 3, 4], dtype=int32)>"
            ]
          },
          "metadata": {},
          "execution_count": 63
        }
      ]
    },
    {
      "cell_type": "code",
      "source": [
        "# Create 2D constant"
      ],
      "metadata": {
        "id": "pD5AqwJ9NFuT"
      },
      "execution_count": null,
      "outputs": []
    },
    {
      "cell_type": "code",
      "source": [
        "\n",
        "\n",
        "t_2d = tf.constant([[1,2],[3,4]])\n",
        "t_2d\n",
        "# //This is 2d constant tensor"
      ],
      "metadata": {
        "colab": {
          "base_uri": "https://localhost:8080/"
        },
        "id": "fGk3d2KBNIKf",
        "outputId": "e96750b1-2b37-41cb-a35a-f20b8e124f7e"
      },
      "execution_count": null,
      "outputs": [
        {
          "output_type": "execute_result",
          "data": {
            "text/plain": [
              "<tf.Tensor: shape=(2, 2), dtype=int32, numpy=\n",
              "array([[1, 2],\n",
              "       [3, 4]], dtype=int32)>"
            ]
          },
          "metadata": {},
          "execution_count": 65
        }
      ]
    },
    {
      "cell_type": "code",
      "source": [
        "t_2d_1 = tf.constant([1,2,3,4], shape=(2,2))\n",
        "t_2d_1\n",
        "# Note: The shape value product should be equal to the no. of elements.\n",
        "# shape manually bhi de skte hai ese. manually means according to himself."
      ],
      "metadata": {
        "id": "8Q2iu6qpNT--",
        "colab": {
          "base_uri": "https://localhost:8080/"
        },
        "outputId": "f77ebaa6-14ac-49d4-cb71-3687c14dc3eb"
      },
      "execution_count": null,
      "outputs": [
        {
          "output_type": "execute_result",
          "data": {
            "text/plain": [
              "<tf.Tensor: shape=(2, 2), dtype=int32, numpy=\n",
              "array([[1, 2],\n",
              "       [3, 4]], dtype=int32)>"
            ]
          },
          "metadata": {},
          "execution_count": 66
        }
      ]
    },
    {
      "cell_type": "code",
      "source": [
        "t_2d_1 = tf.constant([1,2,3,4], shape=(2,2), dtype=\"int32\")\n",
        "t_2d_1"
      ],
      "metadata": {
        "colab": {
          "base_uri": "https://localhost:8080/"
        },
        "id": "03nU6YprPHOI",
        "outputId": "956318e6-8b6a-4f44-aebb-c01447c67464"
      },
      "execution_count": null,
      "outputs": [
        {
          "output_type": "execute_result",
          "data": {
            "text/plain": [
              "<tf.Tensor: shape=(2, 2), dtype=int32, numpy=\n",
              "array([[1, 2],\n",
              "       [3, 4]], dtype=int32)>"
            ]
          },
          "metadata": {},
          "execution_count": 67
        }
      ]
    },
    {
      "cell_type": "code",
      "source": [
        "t_2d_1 = tf.constant([1,2,3,4], shape=(2,2), dtype=\"float32\")\n",
        "t_2d_1"
      ],
      "metadata": {
        "colab": {
          "base_uri": "https://localhost:8080/"
        },
        "id": "W9F5kfz_Pni_",
        "outputId": "03f4321e-5951-4fe8-c340-0ed55dae8713"
      },
      "execution_count": null,
      "outputs": [
        {
          "output_type": "execute_result",
          "data": {
            "text/plain": [
              "<tf.Tensor: shape=(2, 2), dtype=float32, numpy=\n",
              "array([[1., 2.],\n",
              "       [3., 4.]], dtype=float32)>"
            ]
          },
          "metadata": {},
          "execution_count": 68
        }
      ]
    },
    {
      "cell_type": "code",
      "source": [
        "# Create N-D constant"
      ],
      "metadata": {
        "id": "bpW_OcR4Py2Q"
      },
      "execution_count": null,
      "outputs": []
    },
    {
      "cell_type": "code",
      "source": [
        "t_3d_1 = tf.constant([[[1,2],[2,3],[4,5]]], dtype=\"float32\")\n",
        "t_3d_1\n",
        "# 3 sq brackets means 3d tensor"
      ],
      "metadata": {
        "colab": {
          "base_uri": "https://localhost:8080/"
        },
        "id": "QikMLqh9P2OJ",
        "outputId": "76a9a357-2df2-42d2-f635-e13a4f89d112"
      },
      "execution_count": null,
      "outputs": [
        {
          "output_type": "execute_result",
          "data": {
            "text/plain": [
              "<tf.Tensor: shape=(1, 3, 2), dtype=float32, numpy=\n",
              "array([[[1., 2.],\n",
              "        [2., 3.],\n",
              "        [4., 5.]]], dtype=float32)>"
            ]
          },
          "metadata": {},
          "execution_count": 70
        }
      ]
    },
    {
      "cell_type": "code",
      "source": [
        "# Type of Constant"
      ],
      "metadata": {
        "id": "tHYvHZmlQlQH"
      },
      "execution_count": null,
      "outputs": []
    },
    {
      "cell_type": "code",
      "source": [
        "type(t_3d_1)"
      ],
      "metadata": {
        "colab": {
          "base_uri": "https://localhost:8080/"
        },
        "id": "FB6IU-WMQ-2Y",
        "outputId": "4b055d9e-d65c-4521-959e-b5919ac5f44f"
      },
      "execution_count": null,
      "outputs": [
        {
          "output_type": "execute_result",
          "data": {
            "text/plain": [
              "tensorflow.python.framework.ops.EagerTensor"
            ]
          },
          "metadata": {},
          "execution_count": 72
        }
      ]
    },
    {
      "cell_type": "code",
      "source": [
        "# Shape of Constant"
      ],
      "metadata": {
        "id": "l-gFOplGRFh5"
      },
      "execution_count": null,
      "outputs": []
    },
    {
      "cell_type": "code",
      "source": [
        "t_3d_1.shape\n",
        "# TensorShape([1, 3, 2]) number of matrices ,row,col"
      ],
      "metadata": {
        "colab": {
          "base_uri": "https://localhost:8080/"
        },
        "id": "7PzNMW7oRLcw",
        "outputId": "87f86f73-c7e2-4a69-d429-5d9c6f454222"
      },
      "execution_count": null,
      "outputs": [
        {
          "output_type": "execute_result",
          "data": {
            "text/plain": [
              "TensorShape([1, 3, 2])"
            ]
          },
          "metadata": {},
          "execution_count": 74
        }
      ]
    },
    {
      "cell_type": "code",
      "source": [
        "t_2d.shape\n",
        "# TensorShape([2, 2]) row,col"
      ],
      "metadata": {
        "colab": {
          "base_uri": "https://localhost:8080/"
        },
        "id": "sAHcxw3IRjJT",
        "outputId": "287cadbe-2f7a-4eaf-eae8-4fa11be76c0c"
      },
      "execution_count": null,
      "outputs": [
        {
          "output_type": "execute_result",
          "data": {
            "text/plain": [
              "TensorShape([2, 2])"
            ]
          },
          "metadata": {},
          "execution_count": 75
        }
      ]
    },
    {
      "cell_type": "code",
      "source": [
        "# Access constant value"
      ],
      "metadata": {
        "id": "rXv5qsIzRbob"
      },
      "execution_count": null,
      "outputs": []
    },
    {
      "cell_type": "code",
      "source": [
        "t_1d.numpy()\n",
        "\n",
        "# <tf.Tensor: shape=(4,), dtype=int32, numpy=array([1, 2, 3, 4], dtype=int32)>\n",
        "# upar ke codes me ye sb aa rha tha. but if we want to only array values.\n",
        "# then we can use this code."
      ],
      "metadata": {
        "colab": {
          "base_uri": "https://localhost:8080/"
        },
        "id": "R5WnLfOYR6EW",
        "outputId": "c188af71-bcba-4273-f625-5ef28c229c0f"
      },
      "execution_count": null,
      "outputs": [
        {
          "output_type": "execute_result",
          "data": {
            "text/plain": [
              "array([1, 2, 3, 4], dtype=int32)"
            ]
          },
          "metadata": {},
          "execution_count": 77
        }
      ]
    },
    {
      "cell_type": "code",
      "source": [
        "t_1d.numpy()[2]"
      ],
      "metadata": {
        "colab": {
          "base_uri": "https://localhost:8080/"
        },
        "id": "kv9yAQT5R8Fe",
        "outputId": "cf39c185-a1c5-4316-ecd4-21f5d413a977"
      },
      "execution_count": null,
      "outputs": [
        {
          "output_type": "execute_result",
          "data": {
            "text/plain": [
              "3"
            ]
          },
          "metadata": {},
          "execution_count": 78
        }
      ]
    },
    {
      "cell_type": "code",
      "source": [
        "# constant dtype"
      ],
      "metadata": {
        "id": "egpH21eUSB3p"
      },
      "execution_count": null,
      "outputs": []
    },
    {
      "cell_type": "code",
      "source": [
        "#// To check elements data type\n",
        "t_3d_1.dtype"
      ],
      "metadata": {
        "colab": {
          "base_uri": "https://localhost:8080/"
        },
        "id": "7ipA5OjMSsQe",
        "outputId": "1ef8ef00-bb88-4ac0-f7bd-0b4048bcca8a"
      },
      "execution_count": null,
      "outputs": [
        {
          "output_type": "execute_result",
          "data": {
            "text/plain": [
              "tf.float32"
            ]
          },
          "metadata": {},
          "execution_count": 80
        }
      ]
    },
    {
      "cell_type": "code",
      "source": [
        "# In this way we can use tf.constat() function to create tensors."
      ],
      "metadata": {
        "id": "A-AfpPO_Strl"
      },
      "execution_count": null,
      "outputs": []
    },
    {
      "cell_type": "code",
      "source": [
        "# we can't give mixed value in tensorfow constant\n",
        "# it gives an error\n",
        "#<------------------------------------------------------->\n",
        "\n",
        "# tf.constant([1,23.4,\"Indian\"])\n",
        "# ValueError: Can't convert Python sequence with mixed types to Tensor."
      ],
      "metadata": {
        "id": "wXUv4FUTT7mB"
      },
      "execution_count": null,
      "outputs": []
    },
    {
      "cell_type": "code",
      "source": [],
      "metadata": {
        "id": "fCK5v24VT_eE"
      },
      "execution_count": null,
      "outputs": []
    },
    {
      "cell_type": "markdown",
      "source": [
        "# 5) Create TensorFlow Variable using TensorFlow 2.0"
      ],
      "metadata": {
        "id": "JxbZw1cVUWTR"
      }
    },
    {
      "cell_type": "code",
      "source": [
        "# • Variables allow us to add new trainable parameters to the tf.Graph\n",
        "\n",
        "# Syntax: tf.Variable() #// V capital\n",
        "\n",
        "# //Here, graph means neural network structure."
      ],
      "metadata": {
        "id": "Ke2qJ1qZiLms"
      },
      "execution_count": null,
      "outputs": []
    },
    {
      "cell_type": "markdown",
      "source": [
        "# How to Create variable in TensorFlow 2.x"
      ],
      "metadata": {
        "id": "Jh3YPwQWiqyz"
      }
    },
    {
      "cell_type": "code",
      "source": [
        "# The Variable() constructor requires an initial value for the variable, which can be a Tensor of any\n",
        "# type and shape. This initial value defines the type and shape of the variable. After construction,\n",
        "# the type and shape of the variable are fixed. The value can be changed using one of the assign\n",
        "# methods.\n",
        "\n",
        "# Note: In constant we can't change values after creation.\n",
        "# but in variable we can change."
      ],
      "metadata": {
        "id": "b2d2ySPciybk"
      },
      "execution_count": null,
      "outputs": []
    },
    {
      "cell_type": "code",
      "source": [
        "# //parameters\n",
        "\n",
        "# tf.Variable(\n",
        "#     initial_value=Noen, trainable=None, validate_shape=True, caching_device=None,\n",
        "#     name=None, variable_def=None, dtype=None, import_scope=None, constraint=None,\n",
        "#     sychronization=tf.VariablesSynchronization.AUTO,\n",
        "#     aggregation=tf.compat.v1.VariableAggregation.NONE, shape=None\n",
        "# )"
      ],
      "metadata": {
        "id": "qlFRCNd-2D-h"
      },
      "execution_count": null,
      "outputs": []
    },
    {
      "cell_type": "markdown",
      "source": [
        "# Import TensorFlow"
      ],
      "metadata": {
        "id": "hvflSDcni4rk"
      }
    },
    {
      "cell_type": "code",
      "source": [
        "import tensorflow as tf"
      ],
      "metadata": {
        "id": "1umcaeOmi954"
      },
      "execution_count": null,
      "outputs": []
    },
    {
      "cell_type": "markdown",
      "source": [
        "# Create Tensor"
      ],
      "metadata": {
        "id": "UbB010UNi_nH"
      }
    },
    {
      "cell_type": "code",
      "source": [
        "tf.Variable(1)\n",
        "\n",
        "# 0D (zero-dimensional): It has just a single value (a scalar), and no axes or dimensions."
      ],
      "metadata": {
        "colab": {
          "base_uri": "https://localhost:8080/"
        },
        "id": "Dphz_thKjBWA",
        "outputId": "5bdae7a0-ee56-4d32-d6cb-c9d7cd9f04d7"
      },
      "execution_count": null,
      "outputs": [
        {
          "output_type": "execute_result",
          "data": {
            "text/plain": [
              "<tf.Variable 'Variable:0' shape=() dtype=int32, numpy=1>"
            ]
          },
          "metadata": {},
          "execution_count": 86
        }
      ]
    },
    {
      "cell_type": "code",
      "source": [
        "# integer value\n",
        "a = tf.Variable([1,2,3,4])\n",
        "a"
      ],
      "metadata": {
        "colab": {
          "base_uri": "https://localhost:8080/"
        },
        "id": "Pyr2jknAjCzA",
        "outputId": "92bce616-585d-4634-adeb-64353fbd8af2"
      },
      "execution_count": null,
      "outputs": [
        {
          "output_type": "execute_result",
          "data": {
            "text/plain": [
              "<tf.Variable 'Variable:0' shape=(4,) dtype=int32, numpy=array([1, 2, 3, 4], dtype=int32)>"
            ]
          },
          "metadata": {},
          "execution_count": 87
        }
      ]
    },
    {
      "cell_type": "code",
      "source": [
        "a.name"
      ],
      "metadata": {
        "colab": {
          "base_uri": "https://localhost:8080/",
          "height": 36
        },
        "id": "M9qTBbIjmWQb",
        "outputId": "4599d4cb-7401-48c9-fb3e-72e08a725e55"
      },
      "execution_count": null,
      "outputs": [
        {
          "output_type": "execute_result",
          "data": {
            "text/plain": [
              "'Variable:0'"
            ],
            "application/vnd.google.colaboratory.intrinsic+json": {
              "type": "string"
            }
          },
          "metadata": {},
          "execution_count": 88
        }
      ]
    },
    {
      "cell_type": "code",
      "source": [
        "a.shape"
      ],
      "metadata": {
        "colab": {
          "base_uri": "https://localhost:8080/"
        },
        "id": "-xUrY1YumdZQ",
        "outputId": "07d2923c-3760-4de5-f2e2-995f9cbfd6c6"
      },
      "execution_count": null,
      "outputs": [
        {
          "output_type": "execute_result",
          "data": {
            "text/plain": [
              "TensorShape([4])"
            ]
          },
          "metadata": {},
          "execution_count": 89
        }
      ]
    },
    {
      "cell_type": "code",
      "source": [
        "a.dtype"
      ],
      "metadata": {
        "colab": {
          "base_uri": "https://localhost:8080/"
        },
        "id": "ftcs4w2pmfkF",
        "outputId": "f04bafd9-3b4c-407b-adbb-3a9ffec08b5b"
      },
      "execution_count": null,
      "outputs": [
        {
          "output_type": "execute_result",
          "data": {
            "text/plain": [
              "tf.int32"
            ]
          },
          "metadata": {},
          "execution_count": 90
        }
      ]
    },
    {
      "cell_type": "code",
      "source": [
        "# accessing variable values\n",
        "a.numpy()"
      ],
      "metadata": {
        "colab": {
          "base_uri": "https://localhost:8080/"
        },
        "id": "wpeJGlaxmgR0",
        "outputId": "7a4021a8-5a1c-4a5f-f9df-dab0e3ccfe64"
      },
      "execution_count": null,
      "outputs": [
        {
          "output_type": "execute_result",
          "data": {
            "text/plain": [
              "array([1, 2, 3, 4], dtype=int32)"
            ]
          },
          "metadata": {},
          "execution_count": 91
        }
      ]
    },
    {
      "cell_type": "code",
      "source": [
        "type(a)"
      ],
      "metadata": {
        "colab": {
          "base_uri": "https://localhost:8080/",
          "height": 186
        },
        "id": "vXY0S0AOmq4G",
        "outputId": "d08484a0-9696-48f5-ecd3-66ef8f19be55"
      },
      "execution_count": null,
      "outputs": [
        {
          "output_type": "execute_result",
          "data": {
            "text/plain": [
              "tensorflow.python.ops.resource_variable_ops.ResourceVariable"
            ],
            "text/html": [
              "<div style=\"max-width:800px; border: 1px solid var(--colab-border-color);\"><style>\n",
              "      pre.function-repr-contents {\n",
              "        overflow-x: auto;\n",
              "        padding: 8px 12px;\n",
              "        max-height: 500px;\n",
              "      }\n",
              "\n",
              "      pre.function-repr-contents.function-repr-contents-collapsed {\n",
              "        cursor: pointer;\n",
              "        max-height: 100px;\n",
              "      }\n",
              "    </style>\n",
              "    <pre style=\"white-space: initial; background:\n",
              "         var(--colab-secondary-surface-color); padding: 8px 12px;\n",
              "         border-bottom: 1px solid var(--colab-border-color);\"><b>tensorflow.python.ops.resource_variable_ops.ResourceVariable</b><br/>def error_handler(*args, **kwargs)</pre><pre class=\"function-repr-contents function-repr-contents-collapsed\" style=\"\"><a class=\"filepath\" style=\"display:none\" href=\"#\">/usr/local/lib/python3.10/dist-packages/tensorflow/python/ops/resource_variable_ops.py</a>Variable based on resource handles.\n",
              "\n",
              "See the [Variables How To](https://tensorflow.org/guide/variables)\n",
              "for a high level overview.\n",
              "\n",
              "A `ResourceVariable` allows you to maintain state across subsequent calls to\n",
              "session.run.\n",
              "\n",
              "The `ResourceVariable` constructor requires an initial value for the variable,\n",
              "which can be a `Tensor` of any type and shape. The initial value defines the\n",
              "type and shape of the variable. After construction, the type and shape of\n",
              "the variable are fixed. The value can be changed using one of the assign\n",
              "methods.\n",
              "\n",
              "Just like any `Tensor`, variables created with\n",
              "`tf.Variable(use_resource=True)` can be used as inputs for other Ops in the\n",
              "graph. Additionally, all the operators overloaded for the `Tensor` class are\n",
              "carried over to variables, so you can also add nodes to the graph by just\n",
              "doing arithmetic on variables.\n",
              "\n",
              "Unlike ref-based variable, a ResourceVariable has well-defined semantics. Each\n",
              "usage of a ResourceVariable in a TensorFlow graph adds a read_value operation\n",
              "to the graph. The Tensors returned by a read_value operation are guaranteed to\n",
              "see all modifications to the value of the variable which happen in any\n",
              "operation on which the read_value depends on (either directly, indirectly, or\n",
              "via a control dependency) and guaranteed to not see any modification to the\n",
              "value of the variable from operations that depend on the read_value operation.\n",
              "Updates from operations that have no dependency relationship to the read_value\n",
              "operation might or might not be visible to read_value.\n",
              "\n",
              "For example, if there is more than one assignment to a ResourceVariable in\n",
              "a single session.run call there is a well-defined value for each operation\n",
              "which uses the variable&#x27;s value if the assignments and the read are connected\n",
              "by edges in the graph. Consider the following example, in which two writes\n",
              "can cause tf.Variable and tf.ResourceVariable to behave differently:\n",
              "\n",
              "```python\n",
              "a = tf.Variable(1.0, use_resource=True)\n",
              "a.initializer.run()\n",
              "\n",
              "assign = a.assign(2.0)\n",
              "with tf.control_dependencies([assign]):\n",
              "  b = a.read_value()\n",
              "with tf.control_dependencies([b]):\n",
              "  other_assign = a.assign(3.0)\n",
              "with tf.control_dependencies([other_assign]):\n",
              "  # Will print 2.0 because the value was read before other_assign ran. If\n",
              "  # `a` was a tf.Variable instead, 2.0 or 3.0 could be printed.\n",
              "  tf.compat.v1.Print(b, [b]).eval()\n",
              "```</pre>\n",
              "      <script>\n",
              "      if (google.colab.kernel.accessAllowed && google.colab.files && google.colab.files.view) {\n",
              "        for (const element of document.querySelectorAll('.filepath')) {\n",
              "          element.style.display = 'block'\n",
              "          element.onclick = (event) => {\n",
              "            event.preventDefault();\n",
              "            event.stopPropagation();\n",
              "            google.colab.files.view(element.textContent, 1704);\n",
              "          };\n",
              "        }\n",
              "      }\n",
              "      for (const element of document.querySelectorAll('.function-repr-contents')) {\n",
              "        element.onclick = (event) => {\n",
              "          event.preventDefault();\n",
              "          event.stopPropagation();\n",
              "          element.classList.toggle('function-repr-contents-collapsed');\n",
              "        };\n",
              "      }\n",
              "      </script>\n",
              "      </div>"
            ]
          },
          "metadata": {},
          "execution_count": 92
        }
      ]
    },
    {
      "cell_type": "markdown",
      "source": [
        "# Create TF using Integer, Float, String, Bool, Complex Number"
      ],
      "metadata": {
        "id": "qyBYD71pms_n"
      }
    },
    {
      "cell_type": "code",
      "source": [
        "# float value\n",
        "t_f = tf.Variable([1.2,4.4,5,6])\n",
        "t_f\n",
        "\n",
        "# t_f means tensorflow underscore float\n",
        "\n",
        "# Note: if any value is float then it considered as float32"
      ],
      "metadata": {
        "colab": {
          "base_uri": "https://localhost:8080/"
        },
        "id": "FhiCsDUjm9mC",
        "outputId": "6bd9c5d7-76df-4041-d51c-9bb3707e6f7f"
      },
      "execution_count": null,
      "outputs": [
        {
          "output_type": "execute_result",
          "data": {
            "text/plain": [
              "<tf.Variable 'Variable:0' shape=(4,) dtype=float32, numpy=array([1.2, 4.4, 5. , 6. ], dtype=float32)>"
            ]
          },
          "metadata": {},
          "execution_count": 93
        }
      ]
    },
    {
      "cell_type": "code",
      "source": [
        "# string value\n",
        "t_s = tf.Variable(['a','b','c','d'])\n",
        "t_s"
      ],
      "metadata": {
        "colab": {
          "base_uri": "https://localhost:8080/"
        },
        "id": "Fp-CNGY4nY5o",
        "outputId": "8a79063e-7caa-4599-bf7f-fc9ed253baf5"
      },
      "execution_count": null,
      "outputs": [
        {
          "output_type": "execute_result",
          "data": {
            "text/plain": [
              "<tf.Variable 'Variable:0' shape=(4,) dtype=string, numpy=array([b'a', b'b', b'c', b'd'], dtype=object)>"
            ]
          },
          "metadata": {},
          "execution_count": 94
        }
      ]
    },
    {
      "cell_type": "code",
      "source": [
        "# boolean value\n",
        "t_b = tf.Variable([True, False])\n",
        "t_b"
      ],
      "metadata": {
        "colab": {
          "base_uri": "https://localhost:8080/"
        },
        "id": "rQS38iigrlL-",
        "outputId": "53f34ab3-4451-4a61-99e6-2916a2b23939"
      },
      "execution_count": null,
      "outputs": [
        {
          "output_type": "execute_result",
          "data": {
            "text/plain": [
              "<tf.Variable 'Variable:0' shape=(2,) dtype=bool, numpy=array([ True, False])>"
            ]
          },
          "metadata": {},
          "execution_count": 95
        }
      ]
    },
    {
      "cell_type": "code",
      "source": [
        "# complex number\n",
        "t_cx = tf.Variable([3 + 4j])\n",
        "t_cx"
      ],
      "metadata": {
        "colab": {
          "base_uri": "https://localhost:8080/"
        },
        "id": "tD9KEHFCr7cb",
        "outputId": "7705af25-be9e-46ea-caa3-efff310ae55e"
      },
      "execution_count": null,
      "outputs": [
        {
          "output_type": "execute_result",
          "data": {
            "text/plain": [
              "<tf.Variable 'Variable:0' shape=(1,) dtype=complex128, numpy=array([3.+4.j])>"
            ]
          },
          "metadata": {},
          "execution_count": 96
        }
      ]
    },
    {
      "cell_type": "code",
      "source": [],
      "metadata": {
        "id": "cWCyzEqisUfv"
      },
      "execution_count": null,
      "outputs": []
    },
    {
      "cell_type": "code",
      "source": [
        "# mycode 1\n",
        "import numpy as np\n",
        "a = np.array([1,2,3,4,5.5])\n",
        "a.dtype\n",
        "# datatype means element type"
      ],
      "metadata": {
        "colab": {
          "base_uri": "https://localhost:8080/"
        },
        "id": "WszwCJw4oadR",
        "outputId": "77bd3141-5202-432d-c487-7af5c3ff2503"
      },
      "execution_count": null,
      "outputs": [
        {
          "output_type": "execute_result",
          "data": {
            "text/plain": [
              "dtype('float64')"
            ]
          },
          "metadata": {},
          "execution_count": 97
        }
      ]
    },
    {
      "cell_type": "code",
      "source": [
        "# mycode2\n",
        "type(a)\n",
        "# type means kon si library hai."
      ],
      "metadata": {
        "colab": {
          "base_uri": "https://localhost:8080/"
        },
        "id": "ZBDdgeNDo7TR",
        "outputId": "82623b26-ea9a-449c-805a-65b1d45759ed"
      },
      "execution_count": null,
      "outputs": [
        {
          "output_type": "execute_result",
          "data": {
            "text/plain": [
              "numpy.ndarray"
            ]
          },
          "metadata": {},
          "execution_count": 98
        }
      ]
    },
    {
      "cell_type": "code",
      "source": [],
      "metadata": {
        "id": "3cNubeCCpD9G"
      },
      "execution_count": null,
      "outputs": []
    },
    {
      "cell_type": "markdown",
      "source": [
        "# Create TF from Constant TensorFlow to Variable"
      ],
      "metadata": {
        "id": "Fg6Yh6ezsz00"
      }
    },
    {
      "cell_type": "code",
      "source": [
        "t_con = tf.constant([1,2,3,4])\n",
        "t_con"
      ],
      "metadata": {
        "colab": {
          "base_uri": "https://localhost:8080/"
        },
        "id": "3DrgCi2ws3Vm",
        "outputId": "9565c2cc-4581-4dd6-bf89-ab6c849484dc"
      },
      "execution_count": null,
      "outputs": [
        {
          "output_type": "execute_result",
          "data": {
            "text/plain": [
              "<tf.Tensor: shape=(4,), dtype=int32, numpy=array([1, 2, 3, 4], dtype=int32)>"
            ]
          },
          "metadata": {},
          "execution_count": 99
        }
      ]
    },
    {
      "cell_type": "code",
      "source": [
        "tf.Variable(t_con)"
      ],
      "metadata": {
        "colab": {
          "base_uri": "https://localhost:8080/"
        },
        "id": "g4uZHNGKs-IU",
        "outputId": "76073497-f3c6-4d9c-f20c-cc52d239b378"
      },
      "execution_count": null,
      "outputs": [
        {
          "output_type": "execute_result",
          "data": {
            "text/plain": [
              "<tf.Variable 'Variable:0' shape=(4,) dtype=int32, numpy=array([1, 2, 3, 4], dtype=int32)>"
            ]
          },
          "metadata": {},
          "execution_count": 100
        }
      ]
    },
    {
      "cell_type": "code",
      "source": [],
      "metadata": {
        "id": "2cuO5CyXxCBU"
      },
      "execution_count": null,
      "outputs": []
    },
    {
      "cell_type": "markdown",
      "source": [
        "# My codes 1.1,1.2,2.1,2.2\n",
        "\n",
        "# see diff. b/w var and con\n",
        "\n",
        "\n"
      ],
      "metadata": {
        "id": "kDnHS0CxtlCt"
      }
    },
    {
      "cell_type": "code",
      "source": [
        "# 1.1) con to var (ok)\n",
        "#<-------------------------->\n",
        "t_con = tf.constant([1,2,3,4])\n",
        "tf.Variable(t_con)"
      ],
      "metadata": {
        "colab": {
          "base_uri": "https://localhost:8080/"
        },
        "id": "pSd02YWowRHL",
        "outputId": "20df5c0a-3328-4c0c-9415-6077127c382d"
      },
      "execution_count": null,
      "outputs": [
        {
          "output_type": "execute_result",
          "data": {
            "text/plain": [
              "<tf.Variable 'Variable:0' shape=(4,) dtype=int32, numpy=array([1, 2, 3, 4], dtype=int32)>"
            ]
          },
          "metadata": {},
          "execution_count": 101
        }
      ]
    },
    {
      "cell_type": "code",
      "source": [
        "# 1.2) var to con (error)\n",
        "#<------------------------->\n",
        "# t_Var=tf.Variable([1,2,3,4])\n",
        "# tf.consant(t_Var)\n",
        "\n",
        "# it gives an error"
      ],
      "metadata": {
        "id": "jd8WYarqtBwZ"
      },
      "execution_count": null,
      "outputs": []
    },
    {
      "cell_type": "code",
      "source": [
        "# code 2.1) changing var value (ok)\n",
        "#<------------------------------------->\n",
        "\n",
        "var = tf.Variable([10, 20, 30], dtype=tf.int32)\n",
        "print(\"Initial value of variable x:\", var.numpy())\n",
        "\n",
        "var.assign([100, 200, 300])\n",
        "print(\"Updated value of variable x:\", var.numpy())\n",
        "\n",
        "\n",
        "# var.numpy -> give only the array means only value"
      ],
      "metadata": {
        "colab": {
          "base_uri": "https://localhost:8080/"
        },
        "id": "8DLuIaI0tQZN",
        "outputId": "13e685c0-320d-48f9-e2a1-285120ab5781"
      },
      "execution_count": null,
      "outputs": [
        {
          "output_type": "stream",
          "name": "stdout",
          "text": [
            "Initial value of variable x: [10 20 30]\n",
            "Updated value of variable x: [100 200 300]\n"
          ]
        }
      ]
    },
    {
      "cell_type": "code",
      "source": [
        "# code 2.2) changing con value (error)\n",
        "#<-------------------------------------->\n",
        "# Create a TensorFlow Constant\n",
        "con = tf.constant([10, 20, 30], dtype=tf.int32)\n",
        "print(\"Value of constant y:\", con.numpy())\n",
        "\n",
        "# Uncommenting the following line will cause an error because constants can't be changed\n",
        "# y.assign([100, 200, 300])  # This will cause an error"
      ],
      "metadata": {
        "colab": {
          "base_uri": "https://localhost:8080/"
        },
        "id": "WeDOp5BhtWDP",
        "outputId": "80235036-4e37-459b-b63b-ba49c70e3c27"
      },
      "execution_count": null,
      "outputs": [
        {
          "output_type": "stream",
          "name": "stdout",
          "text": [
            "Value of constant y: [10 20 30]\n"
          ]
        }
      ]
    },
    {
      "cell_type": "markdown",
      "source": [
        "# Create TF Variable with different shape"
      ],
      "metadata": {
        "id": "NBQtlL1cvVxO"
      }
    },
    {
      "cell_type": "code",
      "source": [
        "t_2d = tf.Variable([[2,3], [4,5]])\n",
        "t_2d"
      ],
      "metadata": {
        "colab": {
          "base_uri": "https://localhost:8080/"
        },
        "id": "1jHdvRdxxt56",
        "outputId": "37c85a10-004d-4574-ca14-a5436c8ff6b7"
      },
      "execution_count": null,
      "outputs": [
        {
          "output_type": "execute_result",
          "data": {
            "text/plain": [
              "<tf.Variable 'Variable:0' shape=(2, 2) dtype=int32, numpy=\n",
              "array([[2, 3],\n",
              "       [4, 5]], dtype=int32)>"
            ]
          },
          "metadata": {},
          "execution_count": 105
        }
      ]
    },
    {
      "cell_type": "code",
      "source": [
        "t_2d_2 = tf.Variable([[2,3], [4,5]], shape=(2,2), dtype='float32')\n",
        "t_2d_2\n",
        "\n",
        "# Note: <tf.Variable"
      ],
      "metadata": {
        "colab": {
          "base_uri": "https://localhost:8080/"
        },
        "id": "yPItUJRwx5UG",
        "outputId": "999da697-a647-4413-d3ce-a49d42b8e3a5"
      },
      "execution_count": null,
      "outputs": [
        {
          "output_type": "execute_result",
          "data": {
            "text/plain": [
              "<tf.Variable 'Variable:0' shape=(2, 2) dtype=float32, numpy=\n",
              "array([[2., 3.],\n",
              "       [4., 5.]], dtype=float32)>"
            ]
          },
          "metadata": {},
          "execution_count": 106
        }
      ]
    },
    {
      "cell_type": "markdown",
      "source": [
        "#### reshape"
      ],
      "metadata": {
        "id": "wdVUTw6Yy-LJ"
      }
    },
    {
      "cell_type": "code",
      "source": [
        "# reshape\n",
        "a = tf.Variable([1,2,3,4])\n",
        "a"
      ],
      "metadata": {
        "colab": {
          "base_uri": "https://localhost:8080/"
        },
        "id": "f0jZRMgZyIdq",
        "outputId": "8ec09ddb-c453-4411-f2e9-642cbf582146"
      },
      "execution_count": null,
      "outputs": [
        {
          "output_type": "execute_result",
          "data": {
            "text/plain": [
              "<tf.Variable 'Variable:0' shape=(4,) dtype=int32, numpy=array([1, 2, 3, 4], dtype=int32)>"
            ]
          },
          "metadata": {},
          "execution_count": 107
        }
      ]
    },
    {
      "cell_type": "code",
      "source": [
        "# reshape\n",
        "tf.reshape(a, (2,2))\n",
        "\n",
        "# Note: <tf.Tensor: but upar t_2d_2 wale me tf.Variable hai"
      ],
      "metadata": {
        "colab": {
          "base_uri": "https://localhost:8080/"
        },
        "id": "WGWUdNncy06S",
        "outputId": "95263356-0fe5-4f65-8627-54079f14e2a5"
      },
      "execution_count": null,
      "outputs": [
        {
          "output_type": "execute_result",
          "data": {
            "text/plain": [
              "<tf.Tensor: shape=(2, 2), dtype=int32, numpy=\n",
              "array([[1, 2],\n",
              "       [3, 4]], dtype=int32)>"
            ]
          },
          "metadata": {},
          "execution_count": 108
        }
      ]
    },
    {
      "cell_type": "markdown",
      "source": [
        "# Get Index of highest value"
      ],
      "metadata": {
        "id": "6X8U_0lPy5GR"
      }
    },
    {
      "cell_type": "code",
      "source": [
        "t_2d_2"
      ],
      "metadata": {
        "colab": {
          "base_uri": "https://localhost:8080/"
        },
        "id": "OW4ZOVcPzFhd",
        "outputId": "ff1f8d1b-5eb1-4a19-e48f-ee005b6b3a7a"
      },
      "execution_count": null,
      "outputs": [
        {
          "output_type": "execute_result",
          "data": {
            "text/plain": [
              "<tf.Variable 'Variable:0' shape=(2, 2) dtype=float32, numpy=\n",
              "array([[2., 3.],\n",
              "       [4., 5.]], dtype=float32)>"
            ]
          },
          "metadata": {},
          "execution_count": 109
        }
      ]
    },
    {
      "cell_type": "code",
      "source": [
        "tf.argmax(t_2d_2)"
      ],
      "metadata": {
        "colab": {
          "base_uri": "https://localhost:8080/"
        },
        "id": "mQBlVrtBzGcU",
        "outputId": "15209002-3166-4b20-d1c3-dadd3e07855e"
      },
      "execution_count": null,
      "outputs": [
        {
          "output_type": "execute_result",
          "data": {
            "text/plain": [
              "<tf.Tensor: shape=(2,), dtype=int64, numpy=array([1, 1])>"
            ]
          },
          "metadata": {},
          "execution_count": 110
        }
      ]
    },
    {
      "cell_type": "code",
      "source": [
        "tf.argmax(t_2d_2).numpy()\n",
        "\n",
        "# Note: Index start from zero '0'"
      ],
      "metadata": {
        "colab": {
          "base_uri": "https://localhost:8080/"
        },
        "id": "3U-Kl3fOzJUm",
        "outputId": "7f75f001-3434-4293-9ae0-39434f7dde73"
      },
      "execution_count": null,
      "outputs": [
        {
          "output_type": "execute_result",
          "data": {
            "text/plain": [
              "array([1, 1])"
            ]
          },
          "metadata": {},
          "execution_count": 111
        }
      ]
    },
    {
      "cell_type": "markdown",
      "source": [
        "# Viewed/convert as a tensor"
      ],
      "metadata": {
        "id": "JqoFLVhmzbj9"
      }
    },
    {
      "cell_type": "code",
      "source": [
        "a"
      ],
      "metadata": {
        "colab": {
          "base_uri": "https://localhost:8080/"
        },
        "id": "CohDtbxHz2Ap",
        "outputId": "6679ee34-40d3-42e7-bcf6-3ffe94382e51"
      },
      "execution_count": null,
      "outputs": [
        {
          "output_type": "execute_result",
          "data": {
            "text/plain": [
              "<tf.Variable 'Variable:0' shape=(4,) dtype=int32, numpy=array([1, 2, 3, 4], dtype=int32)>"
            ]
          },
          "metadata": {},
          "execution_count": 112
        }
      ]
    },
    {
      "cell_type": "code",
      "source": [
        "tf.convert_to_tensor(a)"
      ],
      "metadata": {
        "colab": {
          "base_uri": "https://localhost:8080/"
        },
        "id": "V42KYZ0Sz2yA",
        "outputId": "208567c0-bf92-4ef1-d44b-84389e48abad"
      },
      "execution_count": null,
      "outputs": [
        {
          "output_type": "execute_result",
          "data": {
            "text/plain": [
              "<tf.Tensor: shape=(4,), dtype=int32, numpy=array([1, 2, 3, 4], dtype=int32)>"
            ]
          },
          "metadata": {},
          "execution_count": 113
        }
      ]
    },
    {
      "cell_type": "code",
      "source": [
        "tf.convert_to_tensor(t_2d_2)"
      ],
      "metadata": {
        "colab": {
          "base_uri": "https://localhost:8080/"
        },
        "id": "uwmqGSpH1ETc",
        "outputId": "bea4d876-89cd-4ce8-b950-4bd1fccc433c"
      },
      "execution_count": null,
      "outputs": [
        {
          "output_type": "execute_result",
          "data": {
            "text/plain": [
              "<tf.Tensor: shape=(2, 2), dtype=float32, numpy=\n",
              "array([[2., 3.],\n",
              "       [4., 5.]], dtype=float32)>"
            ]
          },
          "metadata": {},
          "execution_count": 114
        }
      ]
    },
    {
      "cell_type": "markdown",
      "source": [
        "# Change/Assign new value to tensor"
      ],
      "metadata": {
        "id": "kP8HKq5d1O7k"
      }
    },
    {
      "cell_type": "code",
      "source": [
        "# we can't change SHAPE AND DATA TYPE of variable but\n",
        "# we can change value of variable\n",
        "# YE HM IS VIDEO KE STARTING ME LIKHA HAI"
      ],
      "metadata": {
        "id": "1s9XyXX8_viF"
      },
      "execution_count": null,
      "outputs": []
    },
    {
      "cell_type": "code",
      "source": [
        "# Note: when we assing new value then wo value bhi same memory location pe\n",
        "# store hota hai jha pehle wala tha.\n",
        "\n",
        "# for ex: see below code\n",
        "# a old value\n",
        "# a ko hmne new value assign kr diya.\n",
        "# to new wale value a ke hi location pe jake store hoga.\n",
        "\n",
        "# In simple assign/new value store at the same memory location where the previous one."
      ],
      "metadata": {
        "id": "LWadULCcBdET"
      },
      "execution_count": null,
      "outputs": []
    },
    {
      "cell_type": "code",
      "source": [
        "a"
      ],
      "metadata": {
        "colab": {
          "base_uri": "https://localhost:8080/"
        },
        "id": "dRS0mYyLBadh",
        "outputId": "5025f821-424e-4620-d3d0-76c17fa76140"
      },
      "execution_count": null,
      "outputs": [
        {
          "output_type": "execute_result",
          "data": {
            "text/plain": [
              "<tf.Variable 'Variable:0' shape=(4,) dtype=int32, numpy=array([10, 20, 30, 40], dtype=int32)>"
            ]
          },
          "metadata": {},
          "execution_count": 118
        }
      ]
    },
    {
      "cell_type": "code",
      "source": [
        "a.assign([10,20,30,40])"
      ],
      "metadata": {
        "colab": {
          "base_uri": "https://localhost:8080/"
        },
        "id": "24OKZAwoAgKW",
        "outputId": "508f5e6a-6784-4317-eb3f-93de2c30264c"
      },
      "execution_count": null,
      "outputs": [
        {
          "output_type": "execute_result",
          "data": {
            "text/plain": [
              "<tf.Variable 'UnreadVariable' shape=(4,) dtype=int32, numpy=array([10, 20, 30, 40], dtype=int32)>"
            ]
          },
          "metadata": {},
          "execution_count": 117
        }
      ]
    },
    {
      "cell_type": "code",
      "source": [
        "a"
      ],
      "metadata": {
        "colab": {
          "base_uri": "https://localhost:8080/"
        },
        "id": "zOyPg44bAml4",
        "outputId": "ca0e5292-e2ec-4e04-d164-05be46625849"
      },
      "execution_count": null,
      "outputs": [
        {
          "output_type": "execute_result",
          "data": {
            "text/plain": [
              "<tf.Variable 'Variable:0' shape=(4,) dtype=int32, numpy=array([10, 20, 30, 40], dtype=int32)>"
            ]
          },
          "metadata": {},
          "execution_count": 119
        }
      ]
    },
    {
      "cell_type": "markdown",
      "source": [
        "# Assign Variable with another memory"
      ],
      "metadata": {
        "id": "kcJcnXsdCm1i"
      }
    },
    {
      "cell_type": "code",
      "source": [
        "a.assign_add([4,6,2,8])\n",
        "# This value stored at different memory location.\n",
        "# not at 'a' location"
      ],
      "metadata": {
        "colab": {
          "base_uri": "https://localhost:8080/"
        },
        "id": "jpbdPakwDRYh",
        "outputId": "8ac4a39d-03be-4925-b9af-b6eb20d167fc"
      },
      "execution_count": null,
      "outputs": [
        {
          "output_type": "execute_result",
          "data": {
            "text/plain": [
              "<tf.Variable 'UnreadVariable' shape=(4,) dtype=int32, numpy=array([14, 26, 32, 48], dtype=int32)>"
            ]
          },
          "metadata": {},
          "execution_count": 120
        }
      ]
    },
    {
      "cell_type": "markdown",
      "source": [
        "# can't change shape and Data Type"
      ],
      "metadata": {
        "id": "EkuIBjTyDU06"
      }
    },
    {
      "cell_type": "code",
      "source": [
        "a"
      ],
      "metadata": {
        "colab": {
          "base_uri": "https://localhost:8080/"
        },
        "id": "l7LQ7ImuDguF",
        "outputId": "6200bd1b-1c68-40cc-93f1-27a776ae63e9"
      },
      "execution_count": null,
      "outputs": [
        {
          "output_type": "execute_result",
          "data": {
            "text/plain": [
              "<tf.Variable 'Variable:0' shape=(4,) dtype=int32, numpy=array([14, 26, 32, 48], dtype=int32)>"
            ]
          },
          "metadata": {},
          "execution_count": 121
        }
      ]
    },
    {
      "cell_type": "code",
      "source": [
        "# trying to change shape\n",
        "#<------------------------------>\n",
        "#  a.assign([4,6,2,8,7])\n",
        "\n",
        "\n",
        "#  Shape mismatch.\n",
        "#  The variable shape (4,),\n",
        "#  assigned value shape (5,) are incompatible."
      ],
      "metadata": {
        "id": "VjcfUomIET7_"
      },
      "execution_count": null,
      "outputs": []
    },
    {
      "cell_type": "code",
      "source": [
        "# can't change data type of variable tensor\n",
        "#<------------------------------------------->\n",
        "# a.assign([4.2,6.7,2.0,8.1])\n",
        "\n",
        "# TypeError: Cannot convert [4.2, 6.7, 2.0, 8.1] to EagerTensor of dtype int32"
      ],
      "metadata": {
        "id": "37y9_d6lEcyd"
      },
      "execution_count": null,
      "outputs": []
    },
    {
      "cell_type": "code",
      "source": [
        "# Note: gpu me parallel operation/work/task hota hai. it has high speed.\n",
        "# cpu gives slow speed to train dl/neural network model."
      ],
      "metadata": {
        "id": "wd3uJq63FnUH"
      },
      "execution_count": null,
      "outputs": []
    },
    {
      "cell_type": "code",
      "source": [],
      "metadata": {
        "id": "UXgVsCAISCCk"
      },
      "execution_count": null,
      "outputs": []
    },
    {
      "cell_type": "markdown",
      "source": [
        "# 6) Create TensorFlow Placeholder using TensorFlow 2.X"
      ],
      "metadata": {
        "id": "LOguyvCySFPx"
      }
    },
    {
      "cell_type": "markdown",
      "source": [
        "## How to Create placeholder in TensorFlow 2"
      ],
      "metadata": {
        "id": "lvIBOPA7TG6w"
      }
    },
    {
      "cell_type": "markdown",
      "source": [
        "# How to Migrate your TensorFlow 1 code to TensorFlow 2"
      ],
      "metadata": {
        "id": "UrCvYb0hTHPi"
      }
    },
    {
      "cell_type": "code",
      "source": [
        "# //Note: tensor flow 2.X version version me tensorflow placeholder available nhi hai.\n",
        "# 2.x means 2 ka koi sa bhi version point me.\n",
        "# but we can use placeholder in tensorflow 2.\n",
        "# but it is not the part of tensorflow 2.\n",
        "\n",
        "# So we will discuss about how to migrate your tensorflow 1 code to tensorflow 2\n",
        "# it means we tensorflow 1 me likhe hue code ko agr hme tensorflow 2 me use krna\n",
        "# hai to kaise krenge.//"
      ],
      "metadata": {
        "id": "Jy0AJVsdSUrd"
      },
      "execution_count": null,
      "outputs": []
    },
    {
      "cell_type": "markdown",
      "source": [
        "# Placeholder"
      ],
      "metadata": {
        "id": "tC0sR1UvTQG8"
      }
    },
    {
      "cell_type": "code",
      "source": [
        "# A placeholder is simply a variable that we will assing data to at a later date. It allows us to create our operations and build our\n",
        "# computation graph, without needing the data.\n",
        "\n",
        "# Syntax: tf.compat.v1.placeholder(dtype, shape=None, name=None)"
      ],
      "metadata": {
        "id": "z3vSB_N6TVG3"
      },
      "execution_count": null,
      "outputs": []
    },
    {
      "cell_type": "code",
      "source": [],
      "metadata": {
        "id": "rHYVJodNceE_"
      },
      "execution_count": null,
      "outputs": []
    },
    {
      "cell_type": "markdown",
      "source": [
        "# import Tensorflow 2"
      ],
      "metadata": {
        "id": "oHTDVeCDc2uD"
      }
    },
    {
      "cell_type": "code",
      "source": [
        "import tensorflow as tf"
      ],
      "metadata": {
        "id": "l5GiwLIjc6VK"
      },
      "execution_count": null,
      "outputs": []
    },
    {
      "cell_type": "code",
      "source": [
        "# placeholders are not executable immediately so we need to disable eager execution in TF 2 not in 1\n",
        "\n",
        "\n",
        "# explanation\n",
        "#<------------>\n",
        "\n",
        "# jb bhi hm placeholder use krna chahite hai tensorflow 2 me,\n",
        "# tb hme disable eager execution krna pdta hai.\n",
        "\n",
        "# jb bhi hm placeholder ko execute krenge tensorflow 1 me,\n",
        "# to wha pe tensorflow 1 ko pta hai ki hme is particular variable ko\n",
        "# execute abhi nhi krna hai, hme sirf uska graph create krna hai.\n",
        "# but tensorflow 2 me esa nhi hota, usko nhi pta chlta hai ki is variable ko kb execute krna hai.\n",
        "# means tensorflow 2 me jb hm placeholder create krenge to tensorflow 2 use immediately execute krega.\n",
        "# jisse hme ek error milega"
      ],
      "metadata": {
        "id": "wiplD1IKc70c"
      },
      "execution_count": null,
      "outputs": []
    },
    {
      "cell_type": "code",
      "source": [
        "# tf.compat.v1 <- it means tensorflow 1 me jo bhi function hai usko hme use krna hai tensorflow 2 me.\n",
        "                    # v1 means version 1 se access krna hai."
      ],
      "metadata": {
        "id": "62vVrl0Leos0"
      },
      "execution_count": null,
      "outputs": []
    },
    {
      "cell_type": "markdown",
      "source": [
        "# Create Placeholder"
      ],
      "metadata": {
        "id": "Vh_Us6pre9Ot"
      }
    },
    {
      "cell_type": "code",
      "source": [
        "# This is how to create placeholder in tensorflow 1\n",
        "# but we are using tf 2 so it gives an error.\n",
        "#<------------------------------------------------------->\n",
        "\n",
        "# code\n",
        "# tf.placeholder(dtype=tf.float32, shape=(400, 400))\n",
        "\n",
        "# AttributeError: module 'tensorflow' has no attribute 'placeholder'"
      ],
      "metadata": {
        "id": "QFbIqv8ve_S8"
      },
      "execution_count": null,
      "outputs": []
    },
    {
      "cell_type": "code",
      "source": [
        "# code\n",
        "# tf.compat.v1.placeholder(dtype=tf.float32, shape=(400, 400))\n",
        "\n",
        "# RuntimeError: tf.placeholder() is not compatible with eager execution.\n",
        "\n",
        "# it means -> tensorflow 2 me hm koi bhi variable ko access krte hai, to wo immediately execute hota hai.\n",
        "# but hme use immediately execute ni krna hai, jb hm chahte hai tb execute ho.\n",
        "# to hm disable eager execution ka use krenge.\n",
        "# iss tf.placeholder() compatible ho jayega eager execution se.\n",
        "# see below code"
      ],
      "metadata": {
        "id": "J3KfDxLBfLFG"
      },
      "execution_count": null,
      "outputs": []
    },
    {
      "cell_type": "code",
      "source": [
        "#### first run disable command the and below cell command(placeholder command)"
      ],
      "metadata": {
        "id": "wvVDPHE5tQH4"
      },
      "execution_count": null,
      "outputs": []
    },
    {
      "cell_type": "code",
      "source": [
        "# starting disable_eager_execution()\n",
        "tf.compat.v1.disable_eager_execution()"
      ],
      "metadata": {
        "id": "E1DMx3b0f3vq"
      },
      "execution_count": null,
      "outputs": []
    },
    {
      "cell_type": "code",
      "source": [
        "# tf.compat.v1 -> it is used to call the tensorflow 1 version function in tensorlow 2\n",
        "#<---------------------------------------------------------------------------------------------->\n",
        "a = tf.compat.v1.placeholder(dtype=tf.float32, shape=(400,400))\n",
        "a\n",
        "\n",
        "# yha pe koi bhi value ni hai, bcoz hm place holder ko bs shape and datatype btate hai.\n",
        "# default dtype is float 32"
      ],
      "metadata": {
        "colab": {
          "base_uri": "https://localhost:8080/"
        },
        "id": "BRzX83A4gUhl",
        "outputId": "39ab961d-d565-42d7-f534-b79e2c23bce8"
      },
      "execution_count": null,
      "outputs": [
        {
          "output_type": "execute_result",
          "data": {
            "text/plain": [
              "<tf.Tensor 'Placeholder_4:0' shape=(400, 400) dtype=float32>"
            ]
          },
          "metadata": {},
          "execution_count": 27
        }
      ]
    },
    {
      "cell_type": "code",
      "source": [
        "a.dtype"
      ],
      "metadata": {
        "colab": {
          "base_uri": "https://localhost:8080/"
        },
        "id": "4IdyV7b-smc7",
        "outputId": "53f2eed6-8de7-4a74-f45f-996afbbaa0a3"
      },
      "execution_count": null,
      "outputs": [
        {
          "output_type": "execute_result",
          "data": {
            "text/plain": [
              "tf.float32"
            ]
          },
          "metadata": {},
          "execution_count": 29
        }
      ]
    },
    {
      "cell_type": "code",
      "source": [
        "a.shape"
      ],
      "metadata": {
        "colab": {
          "base_uri": "https://localhost:8080/"
        },
        "id": "Z-TOhQWqsv7S",
        "outputId": "bfc62e98-00c5-4c87-b3b8-25d008b48fda"
      },
      "execution_count": null,
      "outputs": [
        {
          "output_type": "execute_result",
          "data": {
            "text/plain": [
              "TensorShape([400, 400])"
            ]
          },
          "metadata": {},
          "execution_count": 30
        }
      ]
    },
    {
      "cell_type": "code",
      "source": [
        "a.name"
      ],
      "metadata": {
        "colab": {
          "base_uri": "https://localhost:8080/",
          "height": 36
        },
        "id": "NSmJ-4_asvPn",
        "outputId": "afbef5cd-b71a-4348-db2d-6b57a7c5f64c"
      },
      "execution_count": null,
      "outputs": [
        {
          "output_type": "execute_result",
          "data": {
            "text/plain": [
              "'Placeholder_4:0'"
            ],
            "application/vnd.google.colaboratory.intrinsic+json": {
              "type": "string"
            }
          },
          "metadata": {},
          "execution_count": 31
        }
      ]
    },
    {
      "cell_type": "code",
      "source": [
        "b = tf.compat.v1.placeholder(dtype=tf.float32, shape=(400,400))\n",
        "b"
      ],
      "metadata": {
        "id": "y3XC9ADsgc0M",
        "colab": {
          "base_uri": "https://localhost:8080/"
        },
        "outputId": "ed16c131-2dda-480c-f98a-ae4f4451bd05"
      },
      "execution_count": null,
      "outputs": [
        {
          "output_type": "execute_result",
          "data": {
            "text/plain": [
              "<tf.Tensor 'Placeholder_3:0' shape=(400, 400) dtype=float32>"
            ]
          },
          "metadata": {},
          "execution_count": 18
        }
      ]
    },
    {
      "cell_type": "code",
      "source": [],
      "metadata": {
        "id": "0SWEZ-A1soL1"
      },
      "execution_count": null,
      "outputs": []
    },
    {
      "cell_type": "markdown",
      "source": [
        "# Perform mathematical operation with placeholder"
      ],
      "metadata": {
        "id": "STwJ2y60foUT"
      }
    },
    {
      "cell_type": "code",
      "source": [
        "# adding 2 tensorflow placeholder\n",
        "c = tf.add(a,b)\n",
        "c\n",
        "\n",
        "# analysis\n",
        "#<------------>\n",
        "# > abhi hmne sirf a and b code ka ek graph create kiya hai.\n",
        "# > graph create ka mtlb ek structure bs create ho gya hai.ki iska ye shape hai, ye dtype hai and so on.\n",
        "# > hmne abi code ko execute nhi kiya hai. To code ko execute krne ke liye hmare pass kuch data hona chahiye.\n",
        "# we can take data from list or numpy array. see below 👇"
      ],
      "metadata": {
        "colab": {
          "base_uri": "https://localhost:8080/"
        },
        "id": "Ku1m2POChO5h",
        "outputId": "81e66b91-a36e-43a0-d33d-fea9586b7919"
      },
      "execution_count": null,
      "outputs": [
        {
          "output_type": "execute_result",
          "data": {
            "text/plain": [
              "<tf.Tensor 'Add:0' shape=(400, 400) dtype=float32>"
            ]
          },
          "metadata": {},
          "execution_count": 19
        }
      ]
    },
    {
      "cell_type": "markdown",
      "source": [
        "# Create Numpy Array"
      ],
      "metadata": {
        "id": "fpiF27XVhmfW"
      }
    },
    {
      "cell_type": "code",
      "source": [
        "import numpy as np"
      ],
      "metadata": {
        "id": "kdgJT_u5hwzo"
      },
      "execution_count": null,
      "outputs": []
    },
    {
      "cell_type": "code",
      "source": [
        "ones_array = np.ones((400,400), np.float32)\n",
        "ones_array\n",
        "\n",
        "# imp:\n",
        "# now we will assign this data to our placeholder(a & b).\n",
        "# and then we will execute mathematical operation. which is c"
      ],
      "metadata": {
        "colab": {
          "base_uri": "https://localhost:8080/"
        },
        "id": "2xz6pbvWhxzM",
        "outputId": "301d0dbf-6f51-4bab-fb13-4948efed7b6b"
      },
      "execution_count": null,
      "outputs": [
        {
          "output_type": "execute_result",
          "data": {
            "text/plain": [
              "array([[1., 1., 1., ..., 1., 1., 1.],\n",
              "       [1., 1., 1., ..., 1., 1., 1.],\n",
              "       [1., 1., 1., ..., 1., 1., 1.],\n",
              "       ...,\n",
              "       [1., 1., 1., ..., 1., 1., 1.],\n",
              "       [1., 1., 1., ..., 1., 1., 1.],\n",
              "       [1., 1., 1., ..., 1., 1., 1.]], dtype=float32)"
            ]
          },
          "metadata": {},
          "execution_count": 21
        }
      ]
    },
    {
      "cell_type": "markdown",
      "source": [
        "# Execute Tensorflow Placeholder using session"
      ],
      "metadata": {
        "id": "8CX-UaKkiBbF"
      }
    },
    {
      "cell_type": "code",
      "source": [
        "with tf.compat.v1.Session() as sess:\n",
        "  d = sess.run(c, feed_dict={a:ones_array, b:ones_array})\n",
        "\n",
        "# code explanation\n",
        "#<------------------->\n",
        "\n",
        "# session() -> session 1 me hme koi bhi cheez execute krne hai to,\n",
        "# uske liye hm session() ka use krte hai.\n",
        "\n",
        "# tf.compat.v1.Session() -> version1 se hm session ko access krenge.\n",
        "\n",
        "# sess.run() -> means hm jo bhi chez is function me dalenge wo run hoga tensorflow 1 me.\n",
        "\n",
        "\n",
        "\n",
        "#### c, feed_dict={a:ones_array, b:ones_array}:\n",
        "\n",
        "#  >  c -> means c ko execute krna hai.\n",
        "#     c means operation ki variable me available hai uska varible ka name.\n",
        "\n",
        "#  > feed_dict ->   c ko execute krne ke liye hme kuch data chahiye.\n",
        "#     but a and b has no data. bcoz a and b is placeholder.\n",
        "#     so we will feed/give data to a and b placeholder.\n",
        "\n",
        "# > operation perform each and element wise.\n"
      ],
      "metadata": {
        "id": "7dL_LK_fjl-E"
      },
      "execution_count": null,
      "outputs": []
    },
    {
      "cell_type": "code",
      "source": [
        "type(d)\n",
        "\n",
        "# Note1: jb bhi hm session me koi bhi operation run krenge\n",
        "# then we will get its type numpy array not tensorflow tensor.\n",
        "\n",
        "# Note2: Now hm ye d variable ko kisis bhi tensorflow variable ya constant ko assign kr skte hai."
      ],
      "metadata": {
        "colab": {
          "base_uri": "https://localhost:8080/"
        },
        "id": "GHeW4d_ej7Nb",
        "outputId": "4d52f643-25bd-4438-ba2c-7a3178bf5a1e"
      },
      "execution_count": null,
      "outputs": [
        {
          "output_type": "execute_result",
          "data": {
            "text/plain": [
              "numpy.ndarray"
            ]
          },
          "metadata": {},
          "execution_count": 25
        }
      ]
    },
    {
      "cell_type": "code",
      "source": [
        "# Note: we will not use placeholder in tensorflow 2\n",
        "# but this is for understanding what is placeholder and how to use it."
      ],
      "metadata": {
        "id": "bUcboOMmj7iE"
      },
      "execution_count": null,
      "outputs": []
    },
    {
      "cell_type": "code",
      "source": [],
      "metadata": {
        "id": "dJ_79YpBtB1X"
      },
      "execution_count": null,
      "outputs": []
    },
    {
      "cell_type": "markdown",
      "source": [
        "# 7) Create Sparse Tensor using TensorFlow 2.0"
      ],
      "metadata": {
        "id": "9RXornZqt4GD"
      }
    },
    {
      "cell_type": "markdown",
      "source": [
        "# Sparse Tensor"
      ],
      "metadata": {
        "id": "mh7T-M8TxMe5"
      }
    },
    {
      "cell_type": "code",
      "source": [
        "\n",
        "\n",
        "# //inshort me ye hme smj aa gya defination\n",
        "# //now in this today video we will do practical implemenatation"
      ],
      "metadata": {
        "id": "0AvIQPM9xePO"
      },
      "execution_count": null,
      "outputs": []
    },
    {
      "cell_type": "markdown",
      "source": [
        "# data storage Unit\n",
        "\n",
        "![](https://o.quizlet.com/wTQ3tPxI71AnHocqX23abA.png)"
      ],
      "metadata": {
        "id": "f-AUzcdvyWet"
      }
    },
    {
      "cell_type": "code",
      "source": [],
      "metadata": {
        "id": "iGJbey_lzyLg"
      },
      "execution_count": null,
      "outputs": []
    },
    {
      "cell_type": "markdown",
      "source": [
        "# 8) Create Ones vs Ones_like vs Ones_initializer Tensor using TensorFlow 2.0"
      ],
      "metadata": {
        "id": "NogGxDfHzzHZ"
      }
    },
    {
      "cell_type": "code",
      "source": [
        "# A tensor with each and every element is one is called an \"ones tensor\".\""
      ],
      "metadata": {
        "id": "_j1Ti1Qo0BgS"
      },
      "execution_count": null,
      "outputs": []
    },
    {
      "cell_type": "markdown",
      "source": [
        "# How to create Tensor with every element are one in TensorFlow 2.x"
      ],
      "metadata": {
        "id": "8gWjPoYh04ga"
      }
    },
    {
      "cell_type": "markdown",
      "source": [
        "# import TensorFlow 2"
      ],
      "metadata": {
        "id": "aZbTkmfT1B4t"
      }
    },
    {
      "cell_type": "code",
      "source": [
        "import tensorflow as tf"
      ],
      "metadata": {
        "id": "jIEq5Q3L1FFW"
      },
      "execution_count": null,
      "outputs": []
    },
    {
      "cell_type": "markdown",
      "source": [
        "# tf.ones()"
      ],
      "metadata": {
        "id": "gWIq5dix1IXR"
      }
    },
    {
      "cell_type": "markdown",
      "source": [
        "Creates a tensor with all elements set to one (1)."
      ],
      "metadata": {
        "id": "xsZKEihJ1J8P"
      }
    },
    {
      "cell_type": "code",
      "source": [
        "# 1d tensor\n",
        "tf.ones((1), tf.float32)\n",
        "# Note: not need to write dtype. bydefault it gives float32\n",
        "\n",
        "# array ([[1., 1.],\n",
        "        #  1., 1.]]), output esa ayega but show ni ho rha ye."
      ],
      "metadata": {
        "colab": {
          "base_uri": "https://localhost:8080/"
        },
        "id": "sVoWkAcQ1j4-",
        "outputId": "feae9802-6450-48b4-fcd5-020e9622b2a0"
      },
      "execution_count": null,
      "outputs": [
        {
          "output_type": "execute_result",
          "data": {
            "text/plain": [
              "<tf.Tensor 'ones_3:0' shape=(1,) dtype=float32>"
            ]
          },
          "metadata": {},
          "execution_count": 44
        }
      ]
    },
    {
      "cell_type": "code",
      "source": [
        "# Ones 2d tensor\n",
        "ones_2dt = tf.ones((2,2), tf.float32)\n",
        "ones_2dt"
      ],
      "metadata": {
        "colab": {
          "base_uri": "https://localhost:8080/"
        },
        "id": "xWTuQTjX1lg8",
        "outputId": "c3e98286-0565-4959-a3ae-1de1ccca7184"
      },
      "execution_count": null,
      "outputs": [
        {
          "output_type": "execute_result",
          "data": {
            "text/plain": [
              "<tf.Tensor: shape=(2, 2), dtype=float32, numpy=\n",
              "array([[1., 1.],\n",
              "       [1., 1.]], dtype=float32)>"
            ]
          },
          "metadata": {},
          "execution_count": 2
        }
      ]
    },
    {
      "cell_type": "code",
      "source": [
        "ones_3dt = tf.ones((2,2,4), tf.float32)\n",
        "ones_3dt"
      ],
      "metadata": {
        "colab": {
          "base_uri": "https://localhost:8080/"
        },
        "id": "OK6ClIac3pVT",
        "outputId": "8d1a12b6-c86f-42c5-b6d5-32bb79fbb39a"
      },
      "execution_count": null,
      "outputs": [
        {
          "output_type": "execute_result",
          "data": {
            "text/plain": [
              "<tf.Tensor: shape=(2, 2, 4), dtype=float32, numpy=\n",
              "array([[[1., 1., 1., 1.],\n",
              "        [1., 1., 1., 1.]],\n",
              "\n",
              "       [[1., 1., 1., 1.],\n",
              "        [1., 1., 1., 1.]]], dtype=float32)>"
            ]
          },
          "metadata": {},
          "execution_count": 3
        }
      ]
    },
    {
      "cell_type": "code",
      "source": [
        "import tensorflow as tf\n",
        "\n",
        "ones_3dt = tf.ones((2, 2, 4), tf.float32)\n",
        "print(ones_3dt.np())  # Yeh array ko display karega\n"
      ],
      "metadata": {
        "id": "iP8Mn-Wn3bJc",
        "colab": {
          "base_uri": "https://localhost:8080/",
          "height": 332
        },
        "outputId": "32011d9f-fa3d-4469-96f0-1ec74a668706"
      },
      "execution_count": null,
      "outputs": [
        {
          "output_type": "error",
          "ename": "AttributeError",
          "evalue": "'tensorflow.python.framework.ops.EagerTensor' object has no attribute 'np'",
          "traceback": [
            "\u001b[0;31m---------------------------------------------------------------------------\u001b[0m",
            "\u001b[0;31mAttributeError\u001b[0m                            Traceback (most recent call last)",
            "\u001b[0;32m<ipython-input-1-394ba1e9d110>\u001b[0m in \u001b[0;36m<cell line: 4>\u001b[0;34m()\u001b[0m\n\u001b[1;32m      2\u001b[0m \u001b[0;34m\u001b[0m\u001b[0m\n\u001b[1;32m      3\u001b[0m \u001b[0mones_3dt\u001b[0m \u001b[0;34m=\u001b[0m \u001b[0mtf\u001b[0m\u001b[0;34m.\u001b[0m\u001b[0mones\u001b[0m\u001b[0;34m(\u001b[0m\u001b[0;34m(\u001b[0m\u001b[0;36m2\u001b[0m\u001b[0;34m,\u001b[0m \u001b[0;36m2\u001b[0m\u001b[0;34m,\u001b[0m \u001b[0;36m4\u001b[0m\u001b[0;34m)\u001b[0m\u001b[0;34m,\u001b[0m \u001b[0mtf\u001b[0m\u001b[0;34m.\u001b[0m\u001b[0mfloat32\u001b[0m\u001b[0;34m)\u001b[0m\u001b[0;34m\u001b[0m\u001b[0;34m\u001b[0m\u001b[0m\n\u001b[0;32m----> 4\u001b[0;31m \u001b[0mprint\u001b[0m\u001b[0;34m(\u001b[0m\u001b[0mones_3dt\u001b[0m\u001b[0;34m.\u001b[0m\u001b[0mnp\u001b[0m\u001b[0;34m(\u001b[0m\u001b[0;34m)\u001b[0m\u001b[0;34m)\u001b[0m  \u001b[0;31m# Yeh array ko display karega\u001b[0m\u001b[0;34m\u001b[0m\u001b[0;34m\u001b[0m\u001b[0m\n\u001b[0m",
            "\u001b[0;32m/usr/local/lib/python3.10/dist-packages/tensorflow/python/framework/tensor.py\u001b[0m in \u001b[0;36m__getattr__\u001b[0;34m(self, name)\u001b[0m\n\u001b[1;32m    258\u001b[0m         \u001b[0mtf\u001b[0m\u001b[0;34m.\u001b[0m\u001b[0mexperimental\u001b[0m\u001b[0;34m.\u001b[0m\u001b[0mnumpy\u001b[0m\u001b[0;34m.\u001b[0m\u001b[0mexperimental_enable_numpy_behavior\u001b[0m\u001b[0;34m(\u001b[0m\u001b[0;34m)\u001b[0m\u001b[0;34m\u001b[0m\u001b[0;34m\u001b[0m\u001b[0m\n\u001b[1;32m    259\u001b[0m       \"\"\")\n\u001b[0;32m--> 260\u001b[0;31m     \u001b[0mself\u001b[0m\u001b[0;34m.\u001b[0m\u001b[0m__getattribute__\u001b[0m\u001b[0;34m(\u001b[0m\u001b[0mname\u001b[0m\u001b[0;34m)\u001b[0m\u001b[0;34m\u001b[0m\u001b[0;34m\u001b[0m\u001b[0m\n\u001b[0m\u001b[1;32m    261\u001b[0m \u001b[0;34m\u001b[0m\u001b[0m\n\u001b[1;32m    262\u001b[0m   \u001b[0;34m@\u001b[0m\u001b[0mproperty\u001b[0m\u001b[0;34m\u001b[0m\u001b[0;34m\u001b[0m\u001b[0m\n",
            "\u001b[0;31mAttributeError\u001b[0m: 'tensorflow.python.framework.ops.EagerTensor' object has no attribute 'np'"
          ]
        }
      ]
    },
    {
      "cell_type": "code",
      "source": [
        "import numpy as np\n",
        "import tensorflow as tf"
      ],
      "metadata": {
        "id": "wGEPA3GqAXjs"
      },
      "execution_count": null,
      "outputs": []
    },
    {
      "cell_type": "code",
      "source": [],
      "metadata": {
        "id": "FgeW7880Afk-"
      },
      "execution_count": null,
      "outputs": []
    }
  ]
}